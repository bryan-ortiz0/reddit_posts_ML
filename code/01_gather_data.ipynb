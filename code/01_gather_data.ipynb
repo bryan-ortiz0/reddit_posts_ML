{
 "cells": [
  {
   "cell_type": "markdown",
   "id": "6f2bb644-1803-4ca2-a769-9fa2d2a906a3",
   "metadata": {},
   "source": [
    "## Table of Contents\n",
    "\n",
    "* [Import Libraries](#import-libraries)\n",
    "* [PRAW API](#praw-api)\n",
    "    * [Psychonaut Subreddit](#psychonaut-subreddit)\n",
    "    * [Microdosing Subreddit](#microdosing-subreddit)"
   ]
  },
  {
   "cell_type": "markdown",
   "id": "fca41104-b513-4990-8cef-ed36c3ba0a86",
   "metadata": {},
   "source": [
    "# Import Libraries"
   ]
  },
  {
   "cell_type": "code",
   "execution_count": 7,
   "id": "5811682d-1469-47c8-93b7-1483ebc89398",
   "metadata": {},
   "outputs": [],
   "source": [
    "import praw\n",
    "from credentials import API_KEY, API_SECRET, USERNAME, PASSWORD\n",
    "import pandas as pd"
   ]
  },
  {
   "cell_type": "markdown",
   "id": "1d44fdcf-ce67-4e9a-9f70-e73eb9d457f7",
   "metadata": {},
   "source": [
    "# PRAW API"
   ]
  },
  {
   "cell_type": "code",
   "execution_count": 8,
   "id": "d844886a-ccc2-46e0-8c5e-d1cb3fbcad4d",
   "metadata": {},
   "outputs": [],
   "source": [
    "reddit = praw.Reddit(\n",
    "    client_id=API_KEY,\n",
    "    client_secret=API_SECRET,\n",
    "    user_agent='YOUR_USER_AGENT',\n",
    "    username=USERNAME,\n",
    "    password=PASSWORD\n",
    ")"
   ]
  },
  {
   "cell_type": "code",
   "execution_count": 9,
   "id": "b3e1b079-0c73-49df-9da9-f51b729eb2e0",
   "metadata": {},
   "outputs": [],
   "source": [
    "def combine_data(posts, label):\n",
    "    data = []\n",
    "    for p in posts:\n",
    "        row = (p.created_utc, p.title, p.selftext)\n",
    "        data.append(row)\n",
    "        min_time = int(min(r[0] for r in data)) - 100_000\n",
    "    print(f'{label.upper()} POSTS :: N = {len(data)}')\n",
    "    return data"
   ]
  },
  {
   "cell_type": "markdown",
   "id": "9f0b9b85-6fee-487a-b787-298db9c93f7c",
   "metadata": {},
   "source": [
    "## Psychonaut Subreddit"
   ]
  },
  {
   "cell_type": "markdown",
   "id": "1ef329fe-4739-4906-b1fb-4bfcd747add4",
   "metadata": {},
   "source": [
    "- Gather new, hot, top, and controversial subreddit posts from r/Psychonaut using PRAW API"
   ]
  },
  {
   "cell_type": "code",
   "execution_count": 10,
   "id": "1c9f4211-10bd-48d9-a405-9a9117815efa",
   "metadata": {},
   "outputs": [],
   "source": [
    "subreddit = reddit.subreddit('Psychonaut')\n",
    "\n",
    "posts_new = subreddit.new(limit=1000)\n",
    "posts_hot = subreddit.hot(limit=1000)\n",
    "posts_top = subreddit.top(limit=1000)\n",
    "posts_con = subreddit.controversial(limit=1000)"
   ]
  },
  {
   "cell_type": "code",
   "execution_count": 11,
   "id": "ddebbb4a-f751-4049-b22a-8781c77dbe7c",
   "metadata": {},
   "outputs": [
    {
     "name": "stdout",
     "output_type": "stream",
     "text": [
      "NEW POSTS :: N = 991\n",
      "HOT POSTS :: N = 982\n",
      "TOP POSTS :: N = 998\n",
      "CONTROVERSIAL POSTS :: N = 998\n"
     ]
    }
   ],
   "source": [
    "data_new = combine_data(posts_new, 'new')\n",
    "data_hot = combine_data(posts_hot, 'hot')\n",
    "data_top = combine_data(posts_top, 'top')\n",
    "data_con = combine_data(posts_con, 'controversial')"
   ]
  },
  {
   "cell_type": "code",
   "execution_count": 12,
   "id": "44139e07-e1f7-47a7-9a23-4ea79d46c2a4",
   "metadata": {},
   "outputs": [],
   "source": [
    "# Create psychonaut dataframe\n",
    "psychonaut_df = pd.DataFrame(data_new + data_hot + data_top + data_con, columns=['time', 'title', 'text'])"
   ]
  },
  {
   "cell_type": "code",
   "execution_count": 13,
   "id": "8a9ccc48-6086-413b-ad53-14974b1bc7fd",
   "metadata": {},
   "outputs": [
    {
     "data": {
      "text/plain": [
       "(3969, 3)"
      ]
     },
     "execution_count": 13,
     "metadata": {},
     "output_type": "execute_result"
    }
   ],
   "source": [
    "psychonaut_df.shape"
   ]
  },
  {
   "cell_type": "markdown",
   "id": "de4d3988-f1d6-4013-be66-01f3c5058d1c",
   "metadata": {},
   "source": [
    "### Save Data as CSV Files"
   ]
  },
  {
   "cell_type": "code",
   "execution_count": 15,
   "id": "306e5fa7-cb73-4d3b-9ce3-7db924bc2b5c",
   "metadata": {},
   "outputs": [],
   "source": [
    "psychonaut_df.to_csv('../data/psychonaut_raw.csv', index=False)"
   ]
  },
  {
   "cell_type": "markdown",
   "id": "1123513d-aac1-4f9f-9f32-bea255be4d2d",
   "metadata": {},
   "source": [
    "## Microdosing Subreddit"
   ]
  },
  {
   "cell_type": "markdown",
   "id": "f2ed7e3d-9173-4911-950a-66d44c222f6f",
   "metadata": {},
   "source": [
    "- Gather new, hot, top, and controversial subreddit posts from r/microdosing using PRAW API"
   ]
  },
  {
   "cell_type": "code",
   "execution_count": 16,
   "id": "bcdc75c2-dfc9-4e0d-9e55-2038e4104f1b",
   "metadata": {},
   "outputs": [],
   "source": [
    "subreddit = reddit.subreddit('microdosing')\n",
    "\n",
    "posts_new = subreddit.new(limit=1000)\n",
    "posts_hot = subreddit.hot(limit=1000)\n",
    "posts_top = subreddit.top(limit=1000)\n",
    "posts_con = subreddit.controversial(limit=1000)"
   ]
  },
  {
   "cell_type": "code",
   "execution_count": 17,
   "id": "555a8de4-12da-43a8-ae7e-0874144ceb95",
   "metadata": {},
   "outputs": [
    {
     "name": "stdout",
     "output_type": "stream",
     "text": [
      "NEW POSTS :: N = 981\n",
      "HOT POSTS :: N = 959\n",
      "TOP POSTS :: N = 996\n",
      "CONTROVERSIAL POSTS :: N = 994\n"
     ]
    }
   ],
   "source": [
    "data_new = combine_data(posts_new, 'new')\n",
    "data_hot = combine_data(posts_hot, 'hot')\n",
    "data_top = combine_data(posts_top, 'top')\n",
    "data_con = combine_data(posts_con, 'controversial')"
   ]
  },
  {
   "cell_type": "code",
   "execution_count": 18,
   "id": "ec2598f1-5efb-4eca-80fd-38e27339b119",
   "metadata": {},
   "outputs": [],
   "source": [
    "# Create microdosing dataframe\n",
    "microdosing_df = pd.DataFrame(data_new + data_hot + data_top + data_con, columns=['time', 'title', 'text'])"
   ]
  },
  {
   "cell_type": "code",
   "execution_count": 19,
   "id": "e8b8636c-48e9-44e7-926d-dc0bf3ba3a0f",
   "metadata": {},
   "outputs": [
    {
     "data": {
      "text/plain": [
       "(3930, 3)"
      ]
     },
     "execution_count": 19,
     "metadata": {},
     "output_type": "execute_result"
    }
   ],
   "source": [
    "microdosing_df.shape"
   ]
  },
  {
   "cell_type": "markdown",
   "id": "a3eaacbb-4409-4e31-ba7d-e65e2653c15a",
   "metadata": {},
   "source": [
    "### Save Data as CSV Files"
   ]
  },
  {
   "cell_type": "code",
   "execution_count": 21,
   "id": "ff8a48d7-e268-4857-9702-22acb6db5bae",
   "metadata": {},
   "outputs": [],
   "source": [
    "microdosing_df.to_csv('../data/microdosing_raw.csv', index=False)"
   ]
  }
 ],
 "metadata": {
  "kernelspec": {
   "display_name": "Python 3 (ipykernel)",
   "language": "python",
   "name": "python3"
  },
  "language_info": {
   "codemirror_mode": {
    "name": "ipython",
    "version": 3
   },
   "file_extension": ".py",
   "mimetype": "text/x-python",
   "name": "python",
   "nbconvert_exporter": "python",
   "pygments_lexer": "ipython3",
   "version": "3.10.9"
  }
 },
 "nbformat": 4,
 "nbformat_minor": 5
}
