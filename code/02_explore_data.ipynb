{
 "cells": [
  {
   "cell_type": "markdown",
   "id": "d72bba3c-1b1f-4c63-93b7-5cf1c870f932",
   "metadata": {},
   "source": [
    "## Table of Contents\n",
    "\n",
    "* [Import Libraries](#import-libraries)\n",
    "* [Load CSV Files](#load-csv-files)\n",
    "* [Data Cleaning](#data-cleaning)\n",
    "    * [Convert UTC to Readable Date and Time](#convert-utc-to-readable-date-and-time)\n",
    "    * [Missing Values](#missing-values)\n",
    "    * [Remove Duplicates, NaN, and Special Characters](#remove-duplicates-nan-and-special-characters)\n",
    "    * [Look at Lengths and Word Counts in Title and Text](#look-at-lengths-and-word-counts-in-title-and-text)\n",
    "    * [Manually Drop Rows](#manually-drop-rows)\n",
    "* [EDA](#eda)\n",
    "    * [EDA on Title and Text Lengths](#eda-on-title-and-text-length)\n",
    "    * [Title Length Visualization](#title-length-visualization)\n",
    "    * [Text Length Visualization](#text-length-visualization)\n",
    "    * [EDA on Title and Text Word Count](#eda-on-title-and-text-word-count)\n",
    "    * [Title Word Count Visualization](#title-word-count-visualization)\n",
    "    * [Text Word Count Visualization](#text-word-count-visualization)\n",
    "    * [Correlation Tables](#correlation-tables)\n",
    "* [Combine DataFrames](#combine-dataframes)\n",
    "* [Combined Data Visualizations](#combined-data-visualizations)\n",
    "    * [Histplot Visualizations](#histplot-visualizations)\n",
    "    * [Heatmap Visualization](#heatmap-visualization)\n",
    "* [Save Cleaned DataFrames and Combined DataFrame as CSV Files](#save-cleaned-dataframes-and-combined-dataframe-as-csv-files)"
   ]
  },
  {
   "cell_type": "markdown",
   "id": "3860471f-023d-4091-a091-f8b92ef4b79d",
   "metadata": {},
   "source": [
    "# Import Libraries"
   ]
  },
  {
   "cell_type": "code",
   "execution_count": 229,
   "id": "d5164350-664c-4947-aeaa-6c3b540efaa2",
   "metadata": {},
   "outputs": [],
   "source": [
    "import pandas as pd\n",
    "import numpy as np\n",
    "import matplotlib.pyplot as plt\n",
    "import seaborn as sns"
   ]
  },
  {
   "cell_type": "markdown",
   "id": "76210647-6717-4e19-b168-5d0d3efd8265",
   "metadata": {},
   "source": [
    "# Load CSV Files"
   ]
  },
  {
   "cell_type": "code",
   "execution_count": 230,
   "id": "1cd01140-aa55-496b-bc5f-8e56a6d954b8",
   "metadata": {},
   "outputs": [],
   "source": [
    "# Load psychonaut dataframe\n",
    "psychonaut_df = pd.read_csv('../raw_data/psychonaut_raw.csv')"
   ]
  },
  {
   "cell_type": "code",
   "execution_count": 231,
   "id": "ec4b0e7e-3d29-46b7-847f-82414a5a6f3b",
   "metadata": {},
   "outputs": [],
   "source": [
    "# Load microdosing dataframe\n",
    "microdosing_df = pd.read_csv('../raw_data/microdosing_raw.csv')"
   ]
  },
  {
   "cell_type": "markdown",
   "id": "f65d4302-d8d6-4cd5-8e64-747cba6bdf57",
   "metadata": {},
   "source": [
    "# Data Cleaning"
   ]
  },
  {
   "cell_type": "markdown",
   "id": "616efa03-b00e-4ce4-aeef-8116a7a6945b",
   "metadata": {},
   "source": [
    "## Convert UTC to Readable Date and Time"
   ]
  },
  {
   "cell_type": "markdown",
   "id": "a27de772-b7aa-4957-8d8c-990bb2785668",
   "metadata": {},
   "source": [
    "- Function to convert UTC to DateTime"
   ]
  },
  {
   "cell_type": "code",
   "execution_count": 232,
   "id": "58242fa2-345c-4181-b6d5-0011989c6411",
   "metadata": {},
   "outputs": [],
   "source": [
    "def convert_utc(df, column_name):\n",
    "    df[column_name] = pd.to_datetime(df[column_name], unit='s')\n",
    "    return df"
   ]
  },
  {
   "cell_type": "code",
   "execution_count": 233,
   "id": "71472384-6efb-4187-b4bb-b4f5d78ff3c9",
   "metadata": {},
   "outputs": [
    {
     "data": {
      "text/html": [
       "<div>\n",
       "<style scoped>\n",
       "    .dataframe tbody tr th:only-of-type {\n",
       "        vertical-align: middle;\n",
       "    }\n",
       "\n",
       "    .dataframe tbody tr th {\n",
       "        vertical-align: top;\n",
       "    }\n",
       "\n",
       "    .dataframe thead th {\n",
       "        text-align: right;\n",
       "    }\n",
       "</style>\n",
       "<table border=\"1\" class=\"dataframe\">\n",
       "  <thead>\n",
       "    <tr style=\"text-align: right;\">\n",
       "      <th></th>\n",
       "      <th>time</th>\n",
       "      <th>title</th>\n",
       "      <th>text</th>\n",
       "    </tr>\n",
       "  </thead>\n",
       "  <tbody>\n",
       "    <tr>\n",
       "      <th>0</th>\n",
       "      <td>2023-06-16 18:25:25</td>\n",
       "      <td>Taking a week off. Experiences?</td>\n",
       "      <td>I have to take a week off from micro-dosing be...</td>\n",
       "    </tr>\n",
       "    <tr>\n",
       "      <th>1</th>\n",
       "      <td>2023-06-16 16:54:05</td>\n",
       "      <td>Regular microdosers...reported improvements in...</td>\n",
       "      <td>NaN</td>\n",
       "    </tr>\n",
       "    <tr>\n",
       "      <th>2</th>\n",
       "      <td>2023-06-16 15:54:22</td>\n",
       "      <td>Thinking about bumping up microcose amount</td>\n",
       "      <td>Second week of microdosing. Got some capsules ...</td>\n",
       "    </tr>\n",
       "    <tr>\n",
       "      <th>3</th>\n",
       "      <td>2023-06-16 15:09:44</td>\n",
       "      <td>Will 2CB affect me microdosing mushrooms?</td>\n",
       "      <td>NaN</td>\n",
       "    </tr>\n",
       "    <tr>\n",
       "      <th>4</th>\n",
       "      <td>2023-06-16 14:40:52</td>\n",
       "      <td>Somatic effects</td>\n",
       "      <td>I recently learned that some cubes have more o...</td>\n",
       "    </tr>\n",
       "    <tr>\n",
       "      <th>...</th>\n",
       "      <td>...</td>\n",
       "      <td>...</td>\n",
       "      <td>...</td>\n",
       "    </tr>\n",
       "    <tr>\n",
       "      <th>3925</th>\n",
       "      <td>2020-05-02 20:29:31</td>\n",
       "      <td>How much of LSD is this? First timer using</td>\n",
       "      <td>NaN</td>\n",
       "    </tr>\n",
       "    <tr>\n",
       "      <th>3926</th>\n",
       "      <td>2023-04-08 13:25:46</td>\n",
       "      <td>What’s your thoughts on /r/LionsManeRecovery? ...</td>\n",
       "      <td>It’d be nice to see some sort of official stan...</td>\n",
       "    </tr>\n",
       "    <tr>\n",
       "      <th>3927</th>\n",
       "      <td>2022-09-16 20:53:45</td>\n",
       "      <td>Is this 2 micro doses?</td>\n",
       "      <td>NaN</td>\n",
       "    </tr>\n",
       "    <tr>\n",
       "      <th>3928</th>\n",
       "      <td>2021-04-06 07:06:41</td>\n",
       "      <td>All of us must remember DIET plays a huge roll</td>\n",
       "      <td>Not to be entirely a party pooper Butt, everyo...</td>\n",
       "    </tr>\n",
       "    <tr>\n",
       "      <th>3929</th>\n",
       "      <td>2023-06-14 15:34:45</td>\n",
       "      <td>Could I get y’all’s opinion on these mushies?</td>\n",
       "      <td>NaN</td>\n",
       "    </tr>\n",
       "  </tbody>\n",
       "</table>\n",
       "<p>3930 rows × 3 columns</p>\n",
       "</div>"
      ],
      "text/plain": [
       "                    time                                              title  \\\n",
       "0    2023-06-16 18:25:25                    Taking a week off. Experiences?   \n",
       "1    2023-06-16 16:54:05  Regular microdosers...reported improvements in...   \n",
       "2    2023-06-16 15:54:22         Thinking about bumping up microcose amount   \n",
       "3    2023-06-16 15:09:44          Will 2CB affect me microdosing mushrooms?   \n",
       "4    2023-06-16 14:40:52                                    Somatic effects   \n",
       "...                  ...                                                ...   \n",
       "3925 2020-05-02 20:29:31         How much of LSD is this? First timer using   \n",
       "3926 2023-04-08 13:25:46  What’s your thoughts on /r/LionsManeRecovery? ...   \n",
       "3927 2022-09-16 20:53:45                             Is this 2 micro doses?   \n",
       "3928 2021-04-06 07:06:41     All of us must remember DIET plays a huge roll   \n",
       "3929 2023-06-14 15:34:45      Could I get y’all’s opinion on these mushies?   \n",
       "\n",
       "                                                   text  \n",
       "0     I have to take a week off from micro-dosing be...  \n",
       "1                                                   NaN  \n",
       "2     Second week of microdosing. Got some capsules ...  \n",
       "3                                                   NaN  \n",
       "4     I recently learned that some cubes have more o...  \n",
       "...                                                 ...  \n",
       "3925                                                NaN  \n",
       "3926  It’d be nice to see some sort of official stan...  \n",
       "3927                                                NaN  \n",
       "3928  Not to be entirely a party pooper Butt, everyo...  \n",
       "3929                                                NaN  \n",
       "\n",
       "[3930 rows x 3 columns]"
      ]
     },
     "execution_count": 233,
     "metadata": {},
     "output_type": "execute_result"
    }
   ],
   "source": [
    "# Convert Psychonaut dataframe\n",
    "convert_utc(psychonaut_df, 'time')\n",
    "\n",
    "# Convert Microsoding dataframe\n",
    "convert_utc(microdosing_df, 'time')"
   ]
  },
  {
   "cell_type": "markdown",
   "id": "dd4c0543-9777-48af-a66d-462e55b984cc",
   "metadata": {},
   "source": [
    "## Missing Values"
   ]
  },
  {
   "cell_type": "code",
   "execution_count": 234,
   "id": "3ecede1c-42fc-4609-9784-9d40743673ce",
   "metadata": {},
   "outputs": [
    {
     "data": {
      "text/plain": [
       "time        0\n",
       "title       0\n",
       "text     1051\n",
       "dtype: int64"
      ]
     },
     "execution_count": 234,
     "metadata": {},
     "output_type": "execute_result"
    }
   ],
   "source": [
    "psychonaut_df.isnull().sum()"
   ]
  },
  {
   "cell_type": "code",
   "execution_count": 235,
   "id": "25868e2f-5df0-4868-a042-ab681c743693",
   "metadata": {},
   "outputs": [
    {
     "data": {
      "text/plain": [
       "time       0\n",
       "title      0\n",
       "text     936\n",
       "dtype: int64"
      ]
     },
     "execution_count": 235,
     "metadata": {},
     "output_type": "execute_result"
    }
   ],
   "source": [
    "microdosing_df.isnull().sum()"
   ]
  },
  {
   "cell_type": "markdown",
   "id": "f80ce41c-ab84-45f0-baac-b72a28cce00a",
   "metadata": {},
   "source": [
    "## Remove Duplicates, NaN, and Special Characters"
   ]
  },
  {
   "cell_type": "markdown",
   "id": "650fe443-a894-4dff-ae0b-bacdd946af8e",
   "metadata": {},
   "source": [
    "- Function to remove duplicates and to remove special characters"
   ]
  },
  {
   "cell_type": "code",
   "execution_count": 236,
   "id": "e14b3416-a8b4-475a-9c55-c6b1dbd24346",
   "metadata": {},
   "outputs": [],
   "source": [
    "def preprocess_columns(df, column):\n",
    "    df.drop_duplicates(subset=column, inplace=True)\n",
    "    df[column].dropna(inplace=True)\n",
    "    df = df[df[column].str.contains(r'\\w+', na=False)]\n",
    "    return df"
   ]
  },
  {
   "cell_type": "code",
   "execution_count": 237,
   "id": "470a92b4-422a-404d-99df-680f1f058970",
   "metadata": {},
   "outputs": [
    {
     "data": {
      "text/html": [
       "<div>\n",
       "<style scoped>\n",
       "    .dataframe tbody tr th:only-of-type {\n",
       "        vertical-align: middle;\n",
       "    }\n",
       "\n",
       "    .dataframe tbody tr th {\n",
       "        vertical-align: top;\n",
       "    }\n",
       "\n",
       "    .dataframe thead th {\n",
       "        text-align: right;\n",
       "    }\n",
       "</style>\n",
       "<table border=\"1\" class=\"dataframe\">\n",
       "  <thead>\n",
       "    <tr style=\"text-align: right;\">\n",
       "      <th></th>\n",
       "      <th>time</th>\n",
       "      <th>title</th>\n",
       "      <th>text</th>\n",
       "    </tr>\n",
       "  </thead>\n",
       "  <tbody>\n",
       "    <tr>\n",
       "      <th>0</th>\n",
       "      <td>2023-06-16 18:25:25</td>\n",
       "      <td>Taking a week off. Experiences?</td>\n",
       "      <td>I have to take a week off from micro-dosing be...</td>\n",
       "    </tr>\n",
       "    <tr>\n",
       "      <th>2</th>\n",
       "      <td>2023-06-16 15:54:22</td>\n",
       "      <td>Thinking about bumping up microcose amount</td>\n",
       "      <td>Second week of microdosing. Got some capsules ...</td>\n",
       "    </tr>\n",
       "    <tr>\n",
       "      <th>4</th>\n",
       "      <td>2023-06-16 14:40:52</td>\n",
       "      <td>Somatic effects</td>\n",
       "      <td>I recently learned that some cubes have more o...</td>\n",
       "    </tr>\n",
       "    <tr>\n",
       "      <th>5</th>\n",
       "      <td>2023-06-16 13:47:56</td>\n",
       "      <td>Lion’s mane everyday or only on MD days?</td>\n",
       "      <td>I’m about to add Lion’s mane but I don’t know ...</td>\n",
       "    </tr>\n",
       "    <tr>\n",
       "      <th>6</th>\n",
       "      <td>2023-06-16 13:06:28</td>\n",
       "      <td>Synesthesia and Microdosing</td>\n",
       "      <td>Given that I already possess synesthesia, and ...</td>\n",
       "    </tr>\n",
       "    <tr>\n",
       "      <th>...</th>\n",
       "      <td>...</td>\n",
       "      <td>...</td>\n",
       "      <td>...</td>\n",
       "    </tr>\n",
       "    <tr>\n",
       "      <th>3919</th>\n",
       "      <td>2021-08-26 17:35:38</td>\n",
       "      <td>Brown sperm caused by microdosing?</td>\n",
       "      <td>tldr; Anyone else experienced brown sperm from...</td>\n",
       "    </tr>\n",
       "    <tr>\n",
       "      <th>3921</th>\n",
       "      <td>2021-08-30 11:17:29</td>\n",
       "      <td>Long term effects of p. Cubensis cronic consum...</td>\n",
       "      <td>So my bf started microdosing about 2 years ago...</td>\n",
       "    </tr>\n",
       "    <tr>\n",
       "      <th>3924</th>\n",
       "      <td>2022-11-25 00:51:48</td>\n",
       "      <td>First timer - Psilocybin</td>\n",
       "      <td>I don't have micro scales so my friend said I ...</td>\n",
       "    </tr>\n",
       "    <tr>\n",
       "      <th>3926</th>\n",
       "      <td>2023-04-08 13:25:46</td>\n",
       "      <td>What’s your thoughts on /r/LionsManeRecovery? ...</td>\n",
       "      <td>It’d be nice to see some sort of official stan...</td>\n",
       "    </tr>\n",
       "    <tr>\n",
       "      <th>3928</th>\n",
       "      <td>2021-04-06 07:06:41</td>\n",
       "      <td>All of us must remember DIET plays a huge roll</td>\n",
       "      <td>Not to be entirely a party pooper Butt, everyo...</td>\n",
       "    </tr>\n",
       "  </tbody>\n",
       "</table>\n",
       "<p>2021 rows × 3 columns</p>\n",
       "</div>"
      ],
      "text/plain": [
       "                    time                                              title  \\\n",
       "0    2023-06-16 18:25:25                    Taking a week off. Experiences?   \n",
       "2    2023-06-16 15:54:22         Thinking about bumping up microcose amount   \n",
       "4    2023-06-16 14:40:52                                    Somatic effects   \n",
       "5    2023-06-16 13:47:56           Lion’s mane everyday or only on MD days?   \n",
       "6    2023-06-16 13:06:28                        Synesthesia and Microdosing   \n",
       "...                  ...                                                ...   \n",
       "3919 2021-08-26 17:35:38                 Brown sperm caused by microdosing?   \n",
       "3921 2021-08-30 11:17:29  Long term effects of p. Cubensis cronic consum...   \n",
       "3924 2022-11-25 00:51:48                           First timer - Psilocybin   \n",
       "3926 2023-04-08 13:25:46  What’s your thoughts on /r/LionsManeRecovery? ...   \n",
       "3928 2021-04-06 07:06:41     All of us must remember DIET plays a huge roll   \n",
       "\n",
       "                                                   text  \n",
       "0     I have to take a week off from micro-dosing be...  \n",
       "2     Second week of microdosing. Got some capsules ...  \n",
       "4     I recently learned that some cubes have more o...  \n",
       "5     I’m about to add Lion’s mane but I don’t know ...  \n",
       "6     Given that I already possess synesthesia, and ...  \n",
       "...                                                 ...  \n",
       "3919  tldr; Anyone else experienced brown sperm from...  \n",
       "3921  So my bf started microdosing about 2 years ago...  \n",
       "3924  I don't have micro scales so my friend said I ...  \n",
       "3926  It’d be nice to see some sort of official stan...  \n",
       "3928  Not to be entirely a party pooper Butt, everyo...  \n",
       "\n",
       "[2021 rows x 3 columns]"
      ]
     },
     "execution_count": 237,
     "metadata": {},
     "output_type": "execute_result"
    }
   ],
   "source": [
    "# Remove duplicate and special characters from psychonaut dataframe\n",
    "preprocess_columns(psychonaut_df, 'title')\n",
    "preprocess_columns(psychonaut_df, 'text')\n",
    "\n",
    "# Remove duplicate and special characters from microdosing dataframe\n",
    "preprocess_columns(microdosing_df, 'title')\n",
    "preprocess_columns(microdosing_df, 'text')"
   ]
  },
  {
   "cell_type": "markdown",
   "id": "3958800c-e998-45d8-a48b-3c2d2f499671",
   "metadata": {},
   "source": [
    "## Look at Lengths and Word Counts in Title and Text"
   ]
  },
  {
   "cell_type": "markdown",
   "id": "295ba38f-2825-4c45-a891-56040c0b5109",
   "metadata": {},
   "source": [
    "- Function to calculate length of title and create new column"
   ]
  },
  {
   "cell_type": "code",
   "execution_count": 238,
   "id": "0357bab2-7d0e-4838-b6bc-c1f50e567f56",
   "metadata": {},
   "outputs": [],
   "source": [
    "def add_column_length(df, column_name, new_column_name):\n",
    "    df[new_column_name] = df[column_name].fillna('').apply(len)\n",
    "    return df"
   ]
  },
  {
   "cell_type": "code",
   "execution_count": 239,
   "id": "4fdb966c-c792-4874-95f1-f62e45772409",
   "metadata": {},
   "outputs": [
    {
     "data": {
      "text/html": [
       "<div>\n",
       "<style scoped>\n",
       "    .dataframe tbody tr th:only-of-type {\n",
       "        vertical-align: middle;\n",
       "    }\n",
       "\n",
       "    .dataframe tbody tr th {\n",
       "        vertical-align: top;\n",
       "    }\n",
       "\n",
       "    .dataframe thead th {\n",
       "        text-align: right;\n",
       "    }\n",
       "</style>\n",
       "<table border=\"1\" class=\"dataframe\">\n",
       "  <thead>\n",
       "    <tr style=\"text-align: right;\">\n",
       "      <th></th>\n",
       "      <th>time</th>\n",
       "      <th>title</th>\n",
       "      <th>text</th>\n",
       "      <th>title_length</th>\n",
       "      <th>text_length</th>\n",
       "    </tr>\n",
       "  </thead>\n",
       "  <tbody>\n",
       "    <tr>\n",
       "      <th>0</th>\n",
       "      <td>2023-06-16 18:25:25</td>\n",
       "      <td>Taking a week off. Experiences?</td>\n",
       "      <td>I have to take a week off from micro-dosing be...</td>\n",
       "      <td>31</td>\n",
       "      <td>253</td>\n",
       "    </tr>\n",
       "    <tr>\n",
       "      <th>1</th>\n",
       "      <td>2023-06-16 16:54:05</td>\n",
       "      <td>Regular microdosers...reported improvements in...</td>\n",
       "      <td>NaN</td>\n",
       "      <td>184</td>\n",
       "      <td>0</td>\n",
       "    </tr>\n",
       "    <tr>\n",
       "      <th>2</th>\n",
       "      <td>2023-06-16 15:54:22</td>\n",
       "      <td>Thinking about bumping up microcose amount</td>\n",
       "      <td>Second week of microdosing. Got some capsules ...</td>\n",
       "      <td>42</td>\n",
       "      <td>291</td>\n",
       "    </tr>\n",
       "    <tr>\n",
       "      <th>4</th>\n",
       "      <td>2023-06-16 14:40:52</td>\n",
       "      <td>Somatic effects</td>\n",
       "      <td>I recently learned that some cubes have more o...</td>\n",
       "      <td>15</td>\n",
       "      <td>133</td>\n",
       "    </tr>\n",
       "    <tr>\n",
       "      <th>5</th>\n",
       "      <td>2023-06-16 13:47:56</td>\n",
       "      <td>Lion’s mane everyday or only on MD days?</td>\n",
       "      <td>I’m about to add Lion’s mane but I don’t know ...</td>\n",
       "      <td>40</td>\n",
       "      <td>224</td>\n",
       "    </tr>\n",
       "    <tr>\n",
       "      <th>...</th>\n",
       "      <td>...</td>\n",
       "      <td>...</td>\n",
       "      <td>...</td>\n",
       "      <td>...</td>\n",
       "      <td>...</td>\n",
       "    </tr>\n",
       "    <tr>\n",
       "      <th>3919</th>\n",
       "      <td>2021-08-26 17:35:38</td>\n",
       "      <td>Brown sperm caused by microdosing?</td>\n",
       "      <td>tldr; Anyone else experienced brown sperm from...</td>\n",
       "      <td>34</td>\n",
       "      <td>1017</td>\n",
       "    </tr>\n",
       "    <tr>\n",
       "      <th>3921</th>\n",
       "      <td>2021-08-30 11:17:29</td>\n",
       "      <td>Long term effects of p. Cubensis cronic consum...</td>\n",
       "      <td>So my bf started microdosing about 2 years ago...</td>\n",
       "      <td>80</td>\n",
       "      <td>418</td>\n",
       "    </tr>\n",
       "    <tr>\n",
       "      <th>3924</th>\n",
       "      <td>2022-11-25 00:51:48</td>\n",
       "      <td>First timer - Psilocybin</td>\n",
       "      <td>I don't have micro scales so my friend said I ...</td>\n",
       "      <td>24</td>\n",
       "      <td>222</td>\n",
       "    </tr>\n",
       "    <tr>\n",
       "      <th>3926</th>\n",
       "      <td>2023-04-08 13:25:46</td>\n",
       "      <td>What’s your thoughts on /r/LionsManeRecovery? ...</td>\n",
       "      <td>It’d be nice to see some sort of official stan...</td>\n",
       "      <td>149</td>\n",
       "      <td>223</td>\n",
       "    </tr>\n",
       "    <tr>\n",
       "      <th>3928</th>\n",
       "      <td>2021-04-06 07:06:41</td>\n",
       "      <td>All of us must remember DIET plays a huge roll</td>\n",
       "      <td>Not to be entirely a party pooper Butt, everyo...</td>\n",
       "      <td>46</td>\n",
       "      <td>861</td>\n",
       "    </tr>\n",
       "  </tbody>\n",
       "</table>\n",
       "<p>2027 rows × 5 columns</p>\n",
       "</div>"
      ],
      "text/plain": [
       "                    time                                              title  \\\n",
       "0    2023-06-16 18:25:25                    Taking a week off. Experiences?   \n",
       "1    2023-06-16 16:54:05  Regular microdosers...reported improvements in...   \n",
       "2    2023-06-16 15:54:22         Thinking about bumping up microcose amount   \n",
       "4    2023-06-16 14:40:52                                    Somatic effects   \n",
       "5    2023-06-16 13:47:56           Lion’s mane everyday or only on MD days?   \n",
       "...                  ...                                                ...   \n",
       "3919 2021-08-26 17:35:38                 Brown sperm caused by microdosing?   \n",
       "3921 2021-08-30 11:17:29  Long term effects of p. Cubensis cronic consum...   \n",
       "3924 2022-11-25 00:51:48                           First timer - Psilocybin   \n",
       "3926 2023-04-08 13:25:46  What’s your thoughts on /r/LionsManeRecovery? ...   \n",
       "3928 2021-04-06 07:06:41     All of us must remember DIET plays a huge roll   \n",
       "\n",
       "                                                   text  title_length  \\\n",
       "0     I have to take a week off from micro-dosing be...            31   \n",
       "1                                                   NaN           184   \n",
       "2     Second week of microdosing. Got some capsules ...            42   \n",
       "4     I recently learned that some cubes have more o...            15   \n",
       "5     I’m about to add Lion’s mane but I don’t know ...            40   \n",
       "...                                                 ...           ...   \n",
       "3919  tldr; Anyone else experienced brown sperm from...            34   \n",
       "3921  So my bf started microdosing about 2 years ago...            80   \n",
       "3924  I don't have micro scales so my friend said I ...            24   \n",
       "3926  It’d be nice to see some sort of official stan...           149   \n",
       "3928  Not to be entirely a party pooper Butt, everyo...            46   \n",
       "\n",
       "      text_length  \n",
       "0             253  \n",
       "1               0  \n",
       "2             291  \n",
       "4             133  \n",
       "5             224  \n",
       "...           ...  \n",
       "3919         1017  \n",
       "3921          418  \n",
       "3924          222  \n",
       "3926          223  \n",
       "3928          861  \n",
       "\n",
       "[2027 rows x 5 columns]"
      ]
     },
     "execution_count": 239,
     "metadata": {},
     "output_type": "execute_result"
    }
   ],
   "source": [
    "# Add title_length column\n",
    "add_column_length(psychonaut_df, 'title', 'title_length')\n",
    "add_column_length(microdosing_df, 'title', 'title_length')\n",
    "\n",
    "# Add text_length to column\n",
    "add_column_length(psychonaut_df, 'text', 'text_length')\n",
    "add_column_length(microdosing_df, 'text', 'text_length')"
   ]
  },
  {
   "cell_type": "markdown",
   "id": "f529f36f-a02b-43ac-a145-60667ad81e3c",
   "metadata": {},
   "source": [
    "- Function to calculate number of words and create new column"
   ]
  },
  {
   "cell_type": "code",
   "execution_count": 240,
   "id": "49e094c2-267a-44ba-a2ca-6546f13ea06d",
   "metadata": {},
   "outputs": [],
   "source": [
    "def add_word_length(df, column_name, new_column_name):\n",
    "    df[new_column_name] = df[column_name].fillna('').str.split().apply(len)\n",
    "    return df"
   ]
  },
  {
   "cell_type": "code",
   "execution_count": 241,
   "id": "936d84ac-5ae9-4443-83c1-74c2bb351e1b",
   "metadata": {},
   "outputs": [
    {
     "data": {
      "text/html": [
       "<div>\n",
       "<style scoped>\n",
       "    .dataframe tbody tr th:only-of-type {\n",
       "        vertical-align: middle;\n",
       "    }\n",
       "\n",
       "    .dataframe tbody tr th {\n",
       "        vertical-align: top;\n",
       "    }\n",
       "\n",
       "    .dataframe thead th {\n",
       "        text-align: right;\n",
       "    }\n",
       "</style>\n",
       "<table border=\"1\" class=\"dataframe\">\n",
       "  <thead>\n",
       "    <tr style=\"text-align: right;\">\n",
       "      <th></th>\n",
       "      <th>time</th>\n",
       "      <th>title</th>\n",
       "      <th>text</th>\n",
       "      <th>title_length</th>\n",
       "      <th>text_length</th>\n",
       "      <th>title_word_count</th>\n",
       "      <th>text_word_count</th>\n",
       "    </tr>\n",
       "  </thead>\n",
       "  <tbody>\n",
       "    <tr>\n",
       "      <th>0</th>\n",
       "      <td>2023-06-16 18:25:25</td>\n",
       "      <td>Taking a week off. Experiences?</td>\n",
       "      <td>I have to take a week off from micro-dosing be...</td>\n",
       "      <td>31</td>\n",
       "      <td>253</td>\n",
       "      <td>5</td>\n",
       "      <td>46</td>\n",
       "    </tr>\n",
       "    <tr>\n",
       "      <th>1</th>\n",
       "      <td>2023-06-16 16:54:05</td>\n",
       "      <td>Regular microdosers...reported improvements in...</td>\n",
       "      <td>NaN</td>\n",
       "      <td>184</td>\n",
       "      <td>0</td>\n",
       "      <td>24</td>\n",
       "      <td>0</td>\n",
       "    </tr>\n",
       "    <tr>\n",
       "      <th>2</th>\n",
       "      <td>2023-06-16 15:54:22</td>\n",
       "      <td>Thinking about bumping up microcose amount</td>\n",
       "      <td>Second week of microdosing. Got some capsules ...</td>\n",
       "      <td>42</td>\n",
       "      <td>291</td>\n",
       "      <td>6</td>\n",
       "      <td>55</td>\n",
       "    </tr>\n",
       "    <tr>\n",
       "      <th>4</th>\n",
       "      <td>2023-06-16 14:40:52</td>\n",
       "      <td>Somatic effects</td>\n",
       "      <td>I recently learned that some cubes have more o...</td>\n",
       "      <td>15</td>\n",
       "      <td>133</td>\n",
       "      <td>2</td>\n",
       "      <td>25</td>\n",
       "    </tr>\n",
       "    <tr>\n",
       "      <th>5</th>\n",
       "      <td>2023-06-16 13:47:56</td>\n",
       "      <td>Lion’s mane everyday or only on MD days?</td>\n",
       "      <td>I’m about to add Lion’s mane but I don’t know ...</td>\n",
       "      <td>40</td>\n",
       "      <td>224</td>\n",
       "      <td>8</td>\n",
       "      <td>42</td>\n",
       "    </tr>\n",
       "    <tr>\n",
       "      <th>...</th>\n",
       "      <td>...</td>\n",
       "      <td>...</td>\n",
       "      <td>...</td>\n",
       "      <td>...</td>\n",
       "      <td>...</td>\n",
       "      <td>...</td>\n",
       "      <td>...</td>\n",
       "    </tr>\n",
       "    <tr>\n",
       "      <th>3919</th>\n",
       "      <td>2021-08-26 17:35:38</td>\n",
       "      <td>Brown sperm caused by microdosing?</td>\n",
       "      <td>tldr; Anyone else experienced brown sperm from...</td>\n",
       "      <td>34</td>\n",
       "      <td>1017</td>\n",
       "      <td>5</td>\n",
       "      <td>174</td>\n",
       "    </tr>\n",
       "    <tr>\n",
       "      <th>3921</th>\n",
       "      <td>2021-08-30 11:17:29</td>\n",
       "      <td>Long term effects of p. Cubensis cronic consum...</td>\n",
       "      <td>So my bf started microdosing about 2 years ago...</td>\n",
       "      <td>80</td>\n",
       "      <td>418</td>\n",
       "      <td>13</td>\n",
       "      <td>74</td>\n",
       "    </tr>\n",
       "    <tr>\n",
       "      <th>3924</th>\n",
       "      <td>2022-11-25 00:51:48</td>\n",
       "      <td>First timer - Psilocybin</td>\n",
       "      <td>I don't have micro scales so my friend said I ...</td>\n",
       "      <td>24</td>\n",
       "      <td>222</td>\n",
       "      <td>4</td>\n",
       "      <td>45</td>\n",
       "    </tr>\n",
       "    <tr>\n",
       "      <th>3926</th>\n",
       "      <td>2023-04-08 13:25:46</td>\n",
       "      <td>What’s your thoughts on /r/LionsManeRecovery? ...</td>\n",
       "      <td>It’d be nice to see some sort of official stan...</td>\n",
       "      <td>149</td>\n",
       "      <td>223</td>\n",
       "      <td>23</td>\n",
       "      <td>40</td>\n",
       "    </tr>\n",
       "    <tr>\n",
       "      <th>3928</th>\n",
       "      <td>2021-04-06 07:06:41</td>\n",
       "      <td>All of us must remember DIET plays a huge roll</td>\n",
       "      <td>Not to be entirely a party pooper Butt, everyo...</td>\n",
       "      <td>46</td>\n",
       "      <td>861</td>\n",
       "      <td>10</td>\n",
       "      <td>159</td>\n",
       "    </tr>\n",
       "  </tbody>\n",
       "</table>\n",
       "<p>2027 rows × 7 columns</p>\n",
       "</div>"
      ],
      "text/plain": [
       "                    time                                              title  \\\n",
       "0    2023-06-16 18:25:25                    Taking a week off. Experiences?   \n",
       "1    2023-06-16 16:54:05  Regular microdosers...reported improvements in...   \n",
       "2    2023-06-16 15:54:22         Thinking about bumping up microcose amount   \n",
       "4    2023-06-16 14:40:52                                    Somatic effects   \n",
       "5    2023-06-16 13:47:56           Lion’s mane everyday or only on MD days?   \n",
       "...                  ...                                                ...   \n",
       "3919 2021-08-26 17:35:38                 Brown sperm caused by microdosing?   \n",
       "3921 2021-08-30 11:17:29  Long term effects of p. Cubensis cronic consum...   \n",
       "3924 2022-11-25 00:51:48                           First timer - Psilocybin   \n",
       "3926 2023-04-08 13:25:46  What’s your thoughts on /r/LionsManeRecovery? ...   \n",
       "3928 2021-04-06 07:06:41     All of us must remember DIET plays a huge roll   \n",
       "\n",
       "                                                   text  title_length  \\\n",
       "0     I have to take a week off from micro-dosing be...            31   \n",
       "1                                                   NaN           184   \n",
       "2     Second week of microdosing. Got some capsules ...            42   \n",
       "4     I recently learned that some cubes have more o...            15   \n",
       "5     I’m about to add Lion’s mane but I don’t know ...            40   \n",
       "...                                                 ...           ...   \n",
       "3919  tldr; Anyone else experienced brown sperm from...            34   \n",
       "3921  So my bf started microdosing about 2 years ago...            80   \n",
       "3924  I don't have micro scales so my friend said I ...            24   \n",
       "3926  It’d be nice to see some sort of official stan...           149   \n",
       "3928  Not to be entirely a party pooper Butt, everyo...            46   \n",
       "\n",
       "      text_length  title_word_count  text_word_count  \n",
       "0             253                 5               46  \n",
       "1               0                24                0  \n",
       "2             291                 6               55  \n",
       "4             133                 2               25  \n",
       "5             224                 8               42  \n",
       "...           ...               ...              ...  \n",
       "3919         1017                 5              174  \n",
       "3921          418                13               74  \n",
       "3924          222                 4               45  \n",
       "3926          223                23               40  \n",
       "3928          861                10              159  \n",
       "\n",
       "[2027 rows x 7 columns]"
      ]
     },
     "execution_count": 241,
     "metadata": {},
     "output_type": "execute_result"
    }
   ],
   "source": [
    "# Add title_word_count column\n",
    "add_word_length(psychonaut_df, 'title', 'title_word_count')\n",
    "add_word_length(microdosing_df, 'title', 'title_word_count')\n",
    "\n",
    "# Add text_word_count column\n",
    "add_word_length(psychonaut_df, 'text', 'text_word_count')\n",
    "add_word_length(microdosing_df, 'text', 'text_word_count')"
   ]
  },
  {
   "cell_type": "markdown",
   "id": "97777fd8-e597-4e1f-bab0-fe7b33e157dd",
   "metadata": {},
   "source": [
    "## Manually Drop Rows"
   ]
  },
  {
   "cell_type": "markdown",
   "id": "347f37cf-c8ed-4d63-9d1f-051f314822bc",
   "metadata": {},
   "source": [
    "- Rows were dropped because they contained NaN and were not dropped with the function above"
   ]
  },
  {
   "cell_type": "code",
   "execution_count": 242,
   "id": "97d5fa1b-6613-48da-adc3-abf77dd6c7bb",
   "metadata": {},
   "outputs": [],
   "source": [
    "psychonaut_df.drop(index=11, inplace=True)"
   ]
  },
  {
   "cell_type": "code",
   "execution_count": 243,
   "id": "4e76e6ae-0d79-4a4d-9983-cdd09f997a51",
   "metadata": {},
   "outputs": [
    {
     "data": {
      "text/plain": [
       "(2007, 7)"
      ]
     },
     "execution_count": 243,
     "metadata": {},
     "output_type": "execute_result"
    }
   ],
   "source": [
    "psychonaut_df.shape"
   ]
  },
  {
   "cell_type": "code",
   "execution_count": 244,
   "id": "70c7b0b1-5d02-47eb-ab26-dde195b55a64",
   "metadata": {},
   "outputs": [],
   "source": [
    "microdosing_df.drop(index=1, inplace=True)"
   ]
  },
  {
   "cell_type": "code",
   "execution_count": 245,
   "id": "520e8127-40f7-4725-a674-a57f91777a81",
   "metadata": {},
   "outputs": [
    {
     "data": {
      "text/plain": [
       "(2026, 7)"
      ]
     },
     "execution_count": 245,
     "metadata": {},
     "output_type": "execute_result"
    }
   ],
   "source": [
    "microdosing_df.shape"
   ]
  },
  {
   "cell_type": "code",
   "execution_count": 246,
   "id": "13b8639b-dbfe-4b9b-9eeb-6716b46e481f",
   "metadata": {},
   "outputs": [
    {
     "data": {
      "text/plain": [
       "time                0\n",
       "title               0\n",
       "text                0\n",
       "title_length        0\n",
       "text_length         0\n",
       "title_word_count    0\n",
       "text_word_count     0\n",
       "dtype: int64"
      ]
     },
     "execution_count": 246,
     "metadata": {},
     "output_type": "execute_result"
    }
   ],
   "source": [
    "psychonaut_df.isnull().sum()"
   ]
  },
  {
   "cell_type": "code",
   "execution_count": 247,
   "id": "66242eea-cdf1-48a1-b5eb-3497aaf023a8",
   "metadata": {},
   "outputs": [
    {
     "data": {
      "text/plain": [
       "time                0\n",
       "title               0\n",
       "text                0\n",
       "title_length        0\n",
       "text_length         0\n",
       "title_word_count    0\n",
       "text_word_count     0\n",
       "dtype: int64"
      ]
     },
     "execution_count": 247,
     "metadata": {},
     "output_type": "execute_result"
    }
   ],
   "source": [
    "microdosing_df.isnull().sum()"
   ]
  },
  {
   "cell_type": "markdown",
   "id": "49ac15db-fd3b-4685-9a6e-f5122cd43ad8",
   "metadata": {},
   "source": [
    "# EDA"
   ]
  },
  {
   "cell_type": "markdown",
   "id": "0e4f309d-4f8d-46fb-8e06-3d3919f5f6ad",
   "metadata": {},
   "source": [
    "## EDA on Title and Text Lengths"
   ]
  },
  {
   "cell_type": "markdown",
   "id": "c9b5dd04-2f66-47f1-a139-5af1ff75ba28",
   "metadata": {},
   "source": [
    "- Function for top n longest and shortest title or text lengths"
   ]
  },
  {
   "cell_type": "code",
   "execution_count": 248,
   "id": "61612e14-2c24-40a2-9bd3-d832b2de6bc4",
   "metadata": {},
   "outputs": [],
   "source": [
    "def longest_title_or_text_length(df, column_name, n):\n",
    "    return df[column_name].sort_values(ascending=False).head(n)\n",
    "    \n",
    "def shortest_title_or_text_length(df, column_name, n):\n",
    "    return df[column_name].sort_values(ascending=True).head(n)"
   ]
  },
  {
   "cell_type": "code",
   "execution_count": 249,
   "id": "bdaa86ea-f3b0-47a8-a79b-6492911ce3e6",
   "metadata": {},
   "outputs": [
    {
     "name": "stdout",
     "output_type": "stream",
     "text": [
      "Top 5 longest title length:\n",
      "2592    299\n",
      "1978    298\n",
      "3303    298\n",
      "2442    298\n",
      "3712    298\n",
      "Name: title_length, dtype: int64\n",
      "Top 5 shortest title length:\n",
      "3640    1\n",
      "2568    2\n",
      "31      3\n",
      "922     3\n",
      "3680    3\n",
      "Name: title_length, dtype: int64\n",
      "Top 5 longest text length:\n",
      "3313    32503\n",
      "2787    24704\n",
      "472     24255\n",
      "2823    15957\n",
      "3496    15941\n",
      "Name: text_length, dtype: int64\n",
      "Top 5 shortest text length:\n",
      "2711    2\n",
      "60      3\n",
      "3168    3\n",
      "3483    4\n",
      "3130    4\n",
      "Name: text_length, dtype: int64\n"
     ]
    }
   ],
   "source": [
    "# Return top 5 longest titles for psychonaut dataframe\n",
    "print('Top 5 longest title length:')\n",
    "print(longest_title_or_text_length(psychonaut_df, 'title_length', 5))\n",
    "\n",
    "# Return top 5 shortest titles for psychonaut dataframe\n",
    "print('Top 5 shortest title length:')\n",
    "print(shortest_title_or_text_length(psychonaut_df, 'title_length', 5))\n",
    "\n",
    "# Return top 5 longest texts for psychonaut dataframe\n",
    "print('Top 5 longest text length:')\n",
    "print(longest_title_or_text_length(psychonaut_df, 'text_length', 5))\n",
    "\n",
    "# Return top 5 shortest texts for psychonaut dataframe\n",
    "print('Top 5 shortest text length:')\n",
    "print(shortest_title_or_text_length(psychonaut_df, 'text_length', 5))"
   ]
  },
  {
   "cell_type": "code",
   "execution_count": 250,
   "id": "c60bf8c7-5fe6-45e4-b861-8d2923246647",
   "metadata": {},
   "outputs": [
    {
     "name": "stdout",
     "output_type": "stream",
     "text": [
      "Top 5 longest title length:\n",
      "2272    290\n",
      "2451    278\n",
      "2874    260\n",
      "516     254\n",
      "2294    244\n",
      "Name: title_length, dtype: int64\n",
      "Top 5 shortest title length:\n",
      "3902    4\n",
      "3533    6\n",
      "3454    7\n",
      "3848    7\n",
      "3834    8\n",
      "Name: title_length, dtype: int64\n",
      "Top 5 longest text length:\n",
      "2715    34914\n",
      "2887    28248\n",
      "2477    21036\n",
      "2824    16964\n",
      "423     11806\n",
      "Name: text_length, dtype: int64\n",
      "Top 5 shortest text length:\n",
      "3235    1\n",
      "3162    1\n",
      "168     2\n",
      "924     2\n",
      "2431    3\n",
      "Name: text_length, dtype: int64\n"
     ]
    }
   ],
   "source": [
    "# Return top 5 longest titles for microdosing dataframe\n",
    "print('Top 5 longest title length:')\n",
    "print(longest_title_or_text_length(microdosing_df, 'title_length', 5))\n",
    "\n",
    "# Return top 5 shortest titles for microdosing dataframe\n",
    "print('Top 5 shortest title length:')\n",
    "print(shortest_title_or_text_length(microdosing_df, 'title_length', 5))\n",
    "\n",
    "# Return top 5 longest texts for microdosing dataframe\n",
    "print('Top 5 longest text length:')\n",
    "print(longest_title_or_text_length(microdosing_df, 'text_length', 5))\n",
    "\n",
    "# Return top 5 shortest texts for microdosing dataframe\n",
    "print('Top 5 shortest text length:')\n",
    "print(shortest_title_or_text_length(microdosing_df, 'text_length', 5))"
   ]
  },
  {
   "cell_type": "markdown",
   "id": "76027a13-e737-4978-a613-f1effccc44d9",
   "metadata": {},
   "source": [
    "## Title Length Visualization"
   ]
  },
  {
   "cell_type": "markdown",
   "id": "16e84fc2-9100-412c-a0d9-d0fd358f58cb",
   "metadata": {},
   "source": [
    "- Histogram visualizations for both dataframes"
   ]
  },
  {
   "cell_type": "code",
   "execution_count": 251,
   "id": "21e78195-8660-426f-b8dc-97a07e65ed90",
   "metadata": {},
   "outputs": [
    {
     "data": {
      "image/png": "[encoded data removed]",
      "text/plain": [
       "<Figure size 640x480 with 1 Axes>"
      ]
     },
     "metadata": {},
     "output_type": "display_data"
    }
   ],
   "source": [
    "# Psychonaut dataframe\n",
    "psychonaut_df.title_length.hist(bins=30);"
   ]
  },
  {
   "cell_type": "markdown",
   "id": "7ddc8f96-0845-46fb-9519-0786206317fa",
   "metadata": {},
   "source": [
    "> Image above exibits right skew"
   ]
  },
  {
   "cell_type": "code",
   "execution_count": 252,
   "id": "ce8ba1fb-b124-4bd7-9338-0a8adadc2845",
   "metadata": {},
   "outputs": [
    {
     "data": {
      "image/png": "[encoded data removed]",
      "text/plain": [
       "<Figure size 640x480 with 1 Axes>"
      ]
     },
     "metadata": {},
     "output_type": "display_data"
    }
   ],
   "source": [
    "# Microdosing dataframe\n",
    "microdosing_df.title_length.hist(bins=30);"
   ]
  },
  {
   "cell_type": "markdown",
   "id": "b69dadad-78ca-4a68-a3b5-22e39cac22e2",
   "metadata": {},
   "source": [
    "> Image above exhibits right skew"
   ]
  },
  {
   "cell_type": "markdown",
   "id": "295e5b7b-60c6-454c-baa9-4697ecea1a83",
   "metadata": {},
   "source": [
    "## Text length Visualization"
   ]
  },
  {
   "cell_type": "markdown",
   "id": "ee105dff-7d1d-446f-9def-da2c1ea6a5a4",
   "metadata": {},
   "source": [
    "- Histogram visualizations for both dataframes"
   ]
  },
  {
   "cell_type": "code",
   "execution_count": 253,
   "id": "dc65c8a9-ad4c-4c2a-a106-63e10075423d",
   "metadata": {},
   "outputs": [
    {
     "data": {
      "image/png": "[encoded data removed]",
      "text/plain": [
       "<Figure size 640x480 with 1 Axes>"
      ]
     },
     "metadata": {},
     "output_type": "display_data"
    }
   ],
   "source": [
    "# Psychonaut dataframe\n",
    "psychonaut_df.text_length.hist(bins=30);"
   ]
  },
  {
   "cell_type": "markdown",
   "id": "49b7eb94-f4e2-4df4-be25-a5d63c3998d7",
   "metadata": {},
   "source": [
    "> Image above exhibits heavy right skew"
   ]
  },
  {
   "cell_type": "code",
   "execution_count": 254,
   "id": "216f2b9a-3e2e-47fb-995a-bdeb8c1e0587",
   "metadata": {},
   "outputs": [
    {
     "data": {
      "image/png": "[encoded data removed]",
      "text/plain": [
       "<Figure size 640x480 with 1 Axes>"
      ]
     },
     "metadata": {},
     "output_type": "display_data"
    }
   ],
   "source": [
    "# Microdosing dataframe\n",
    "microdosing_df.text_length.hist(bins=30);"
   ]
  },
  {
   "cell_type": "markdown",
   "id": "c086bc5b-1b94-4d49-99c3-2c2bff11bc2f",
   "metadata": {},
   "source": [
    "## EDA on Title and Text Word Count"
   ]
  },
  {
   "cell_type": "markdown",
   "id": "e6033990-f147-41f9-a909-718dd98bd35d",
   "metadata": {},
   "source": [
    "- Function for top n longest and shortest title or text word counts"
   ]
  },
  {
   "cell_type": "code",
   "execution_count": 255,
   "id": "dd9604ee-2e74-4971-ae34-befb12e67100",
   "metadata": {},
   "outputs": [],
   "source": [
    "def longest_title_or_text_word_count(df, column_name, n):\n",
    "    return df[column_name].sort_values(ascending=False).head(n)\n",
    "    \n",
    "def shortest_title_or_text_word_count(df, column_name, n):\n",
    "    return df[column_name].sort_values(ascending=True).head(n)"
   ]
  },
  {
   "cell_type": "code",
   "execution_count": 256,
   "id": "9b3a6869-c2bd-4138-9e33-5bcb453edd97",
   "metadata": {},
   "outputs": [
    {
     "name": "stdout",
     "output_type": "stream",
     "text": [
      "Top 5 longest title word count:\n",
      "598     64\n",
      "3712    59\n",
      "3610    58\n",
      "2765    58\n",
      "2592    56\n",
      "Name: title_word_count, dtype: int64\n",
      "Top 5 shortest title word count:\n",
      "49      1\n",
      "280     1\n",
      "3859    1\n",
      "805     1\n",
      "3371    1\n",
      "Name: title_word_count, dtype: int64\n",
      "Top 5 longest text word count:\n",
      "3313    6022\n",
      "472     4619\n",
      "2787    4358\n",
      "2823    3166\n",
      "3496    2831\n",
      "Name: text_word_count, dtype: int64\n",
      "Top 5 shortest text word count:\n",
      "516     1\n",
      "2711    1\n",
      "187     1\n",
      "3458    1\n",
      "192     1\n",
      "Name: text_word_count, dtype: int64\n"
     ]
    }
   ],
   "source": [
    "# Return top 5 longest title word counts for psychonaut dataframe\n",
    "print('Top 5 longest title word count:')\n",
    "print(longest_title_or_text_word_count(psychonaut_df, 'title_word_count', 5))\n",
    "\n",
    "# Return top 5 shortest title word counts for psychonaut dataframe\n",
    "print('Top 5 shortest title word count:')\n",
    "print(shortest_title_or_text_word_count(psychonaut_df, 'title_word_count', 5))\n",
    "\n",
    "# Return top 5 longest text word counts for psychonaut dataframe\n",
    "print('Top 5 longest text word count:')\n",
    "print(longest_title_or_text_word_count(psychonaut_df, 'text_word_count', 5))\n",
    "\n",
    "# Return top 5 shortest text word counts for psychonaut dataframe\n",
    "print('Top 5 shortest text word count:')\n",
    "print(shortest_title_or_text_word_count(psychonaut_df, 'text_word_count', 5))"
   ]
  },
  {
   "cell_type": "code",
   "execution_count": 257,
   "id": "f2405279-8c26-4d74-8ebf-404dda3b8311",
   "metadata": {},
   "outputs": [
    {
     "name": "stdout",
     "output_type": "stream",
     "text": [
      "Top 5 longest title word count:\n",
      "2272    57\n",
      "2566    47\n",
      "2451    43\n",
      "2775    42\n",
      "349     40\n",
      "Name: title_word_count, dtype: int64\n",
      "Top 5 shortest title word count:\n",
      "931     1\n",
      "3257    1\n",
      "3141    1\n",
      "3875    1\n",
      "3890    1\n",
      "Name: title_word_count, dtype: int64\n",
      "Top 5 longest text word count:\n",
      "2887    4458\n",
      "2477    3316\n",
      "2715    3132\n",
      "2824    2693\n",
      "2594    2240\n",
      "Name: text_word_count, dtype: int64\n",
      "Top 5 shortest text word count:\n",
      "2182    1\n",
      "3182    1\n",
      "3336    1\n",
      "2827    1\n",
      "168     1\n",
      "Name: text_word_count, dtype: int64\n"
     ]
    }
   ],
   "source": [
    "# Return top 5 longest title word counts for microdosing dataframe\n",
    "print('Top 5 longest title word count:')\n",
    "print(longest_title_or_text_word_count(microdosing_df, 'title_word_count', 5))\n",
    "\n",
    "# Return top 5 shortest title word counts for microdosing dataframe\n",
    "print('Top 5 shortest title word count:')\n",
    "print(shortest_title_or_text_word_count(microdosing_df, 'title_word_count', 5))\n",
    "\n",
    "# Return top 5 longest text word counts for microdosing dataframe\n",
    "print('Top 5 longest text word count:')\n",
    "print(longest_title_or_text_word_count(microdosing_df, 'text_word_count', 5))\n",
    "\n",
    "# Return top 5 shortest text word counts for microdosing dataframe\n",
    "print('Top 5 shortest text word count:')\n",
    "print(shortest_title_or_text_word_count(microdosing_df, 'text_word_count', 5))"
   ]
  },
  {
   "cell_type": "markdown",
   "id": "338572ac-c9e7-4578-89dd-71c9d41709e3",
   "metadata": {},
   "source": [
    "## Title Word Count Visualization"
   ]
  },
  {
   "cell_type": "markdown",
   "id": "188b7fff-2ffa-4d55-aac2-4fa72908d27a",
   "metadata": {},
   "source": [
    "- Histogram visualizations for both dataframes"
   ]
  },
  {
   "cell_type": "code",
   "execution_count": 258,
   "id": "680bab93-beb1-414d-82d3-0d7a93e8376d",
   "metadata": {},
   "outputs": [
    {
     "data": {
      "image/png": "[encoded data removed]",
      "text/plain": [
       "<Figure size 640x480 with 1 Axes>"
      ]
     },
     "metadata": {},
     "output_type": "display_data"
    }
   ],
   "source": [
    "# Psychonaut dataframe\n",
    "psychonaut_df.title_word_count.hist(bins=30);"
   ]
  },
  {
   "cell_type": "markdown",
   "id": "e45efcc4-573c-4f90-a98e-c0d506e55f56",
   "metadata": {},
   "source": [
    "> Image above exhibits heavy right skew"
   ]
  },
  {
   "cell_type": "code",
   "execution_count": 259,
   "id": "bf46da6c-c26b-4963-a484-adfafe60788a",
   "metadata": {},
   "outputs": [
    {
     "data": {
      "image/png": "[encoded data removed]",
      "text/plain": [
       "<Figure size 640x480 with 1 Axes>"
      ]
     },
     "metadata": {},
     "output_type": "display_data"
    }
   ],
   "source": [
    "# Microdosing dataframe\n",
    "microdosing_df.title_word_count.hist(bins=30);"
   ]
  },
  {
   "cell_type": "markdown",
   "id": "5c7976b0-a1be-495f-975a-8780f71eff56",
   "metadata": {},
   "source": [
    "> Image above exhibits right skew"
   ]
  },
  {
   "cell_type": "markdown",
   "id": "6d8561ac-52a3-4086-a163-d91ae0a820ed",
   "metadata": {},
   "source": [
    "## Text Word Count Visualization"
   ]
  },
  {
   "cell_type": "markdown",
   "id": "1ad490ad-1f9e-4623-a0c6-458de0fb1e1e",
   "metadata": {},
   "source": [
    "- Histogram visualizations for both dataframes"
   ]
  },
  {
   "cell_type": "code",
   "execution_count": 260,
   "id": "1c281186-e115-4a7d-bff0-acfadc0385c8",
   "metadata": {},
   "outputs": [
    {
     "data": {
      "image/png": "[encoded data removed]",
      "text/plain": [
       "<Figure size 640x480 with 1 Axes>"
      ]
     },
     "metadata": {},
     "output_type": "display_data"
    }
   ],
   "source": [
    "# Psychonaut dataframe\n",
    "psychonaut_df.text_word_count.hist(bins=30);"
   ]
  },
  {
   "cell_type": "markdown",
   "id": "b0d82013-afe3-47b2-8458-659db461cb99",
   "metadata": {},
   "source": [
    "> Image above exhibits heavy right skew"
   ]
  },
  {
   "cell_type": "code",
   "execution_count": 261,
   "id": "e6bf7552-4143-42da-ab93-92723bc8a651",
   "metadata": {},
   "outputs": [
    {
     "data": {
      "image/png": "[encoded data removed]",
      "text/plain": [
       "<Figure size 640x480 with 1 Axes>"
      ]
     },
     "metadata": {},
     "output_type": "display_data"
    }
   ],
   "source": [
    "# Microdosing dataframe\n",
    "microdosing_df.text_word_count.hist(bins=30);"
   ]
  },
  {
   "cell_type": "markdown",
   "id": "db197311-c498-4009-8a97-0098f84cdee5",
   "metadata": {},
   "source": [
    "> Image above exhibits heavy right skew"
   ]
  },
  {
   "cell_type": "markdown",
   "id": "5018ee91-5895-4125-8f6a-f93ab1e87fe2",
   "metadata": {},
   "source": [
    "## Correlation Tables"
   ]
  },
  {
   "cell_type": "code",
   "execution_count": 262,
   "id": "e0dd6451-53db-4dc9-9fcf-fa16c9c7e35d",
   "metadata": {},
   "outputs": [
    {
     "name": "stderr",
     "output_type": "stream",
     "text": [
      "C:\\Users\\Crypt\\AppData\\Local\\Temp\\ipykernel_15204\\1245713965.py:2: FutureWarning: The default value of numeric_only in DataFrame.corr is deprecated. In a future version, it will default to False. Select only valid columns or specify the value of numeric_only to silence this warning.\n",
      "  psychonaut_df.corr()\n"
     ]
    },
    {
     "data": {
      "text/html": [
       "<div>\n",
       "<style scoped>\n",
       "    .dataframe tbody tr th:only-of-type {\n",
       "        vertical-align: middle;\n",
       "    }\n",
       "\n",
       "    .dataframe tbody tr th {\n",
       "        vertical-align: top;\n",
       "    }\n",
       "\n",
       "    .dataframe thead th {\n",
       "        text-align: right;\n",
       "    }\n",
       "</style>\n",
       "<table border=\"1\" class=\"dataframe\">\n",
       "  <thead>\n",
       "    <tr style=\"text-align: right;\">\n",
       "      <th></th>\n",
       "      <th>title_length</th>\n",
       "      <th>text_length</th>\n",
       "      <th>title_word_count</th>\n",
       "      <th>text_word_count</th>\n",
       "    </tr>\n",
       "  </thead>\n",
       "  <tbody>\n",
       "    <tr>\n",
       "      <th>title_length</th>\n",
       "      <td>1.000000</td>\n",
       "      <td>0.087534</td>\n",
       "      <td>0.978518</td>\n",
       "      <td>0.076102</td>\n",
       "    </tr>\n",
       "    <tr>\n",
       "      <th>text_length</th>\n",
       "      <td>0.087534</td>\n",
       "      <td>1.000000</td>\n",
       "      <td>0.082073</td>\n",
       "      <td>0.996517</td>\n",
       "    </tr>\n",
       "    <tr>\n",
       "      <th>title_word_count</th>\n",
       "      <td>0.978518</td>\n",
       "      <td>0.082073</td>\n",
       "      <td>1.000000</td>\n",
       "      <td>0.074300</td>\n",
       "    </tr>\n",
       "    <tr>\n",
       "      <th>text_word_count</th>\n",
       "      <td>0.076102</td>\n",
       "      <td>0.996517</td>\n",
       "      <td>0.074300</td>\n",
       "      <td>1.000000</td>\n",
       "    </tr>\n",
       "  </tbody>\n",
       "</table>\n",
       "</div>"
      ],
      "text/plain": [
       "                  title_length  text_length  title_word_count  text_word_count\n",
       "title_length          1.000000     0.087534          0.978518         0.076102\n",
       "text_length           0.087534     1.000000          0.082073         0.996517\n",
       "title_word_count      0.978518     0.082073          1.000000         0.074300\n",
       "text_word_count       0.076102     0.996517          0.074300         1.000000"
      ]
     },
     "execution_count": 262,
     "metadata": {},
     "output_type": "execute_result"
    }
   ],
   "source": [
    "# Psychonaut correlation\n",
    "psychonaut_df.corr()"
   ]
  },
  {
   "cell_type": "code",
   "execution_count": 263,
   "id": "eb10833e-41a2-47f2-8cfc-9f502af0dddb",
   "metadata": {},
   "outputs": [
    {
     "name": "stderr",
     "output_type": "stream",
     "text": [
      "C:\\Users\\Crypt\\AppData\\Local\\Temp\\ipykernel_15204\\2951093146.py:2: FutureWarning: The default value of numeric_only in DataFrame.corr is deprecated. In a future version, it will default to False. Select only valid columns or specify the value of numeric_only to silence this warning.\n",
      "  microdosing_df.corr()\n"
     ]
    },
    {
     "data": {
      "text/html": [
       "<div>\n",
       "<style scoped>\n",
       "    .dataframe tbody tr th:only-of-type {\n",
       "        vertical-align: middle;\n",
       "    }\n",
       "\n",
       "    .dataframe tbody tr th {\n",
       "        vertical-align: top;\n",
       "    }\n",
       "\n",
       "    .dataframe thead th {\n",
       "        text-align: right;\n",
       "    }\n",
       "</style>\n",
       "<table border=\"1\" class=\"dataframe\">\n",
       "  <thead>\n",
       "    <tr style=\"text-align: right;\">\n",
       "      <th></th>\n",
       "      <th>title_length</th>\n",
       "      <th>text_length</th>\n",
       "      <th>title_word_count</th>\n",
       "      <th>text_word_count</th>\n",
       "    </tr>\n",
       "  </thead>\n",
       "  <tbody>\n",
       "    <tr>\n",
       "      <th>title_length</th>\n",
       "      <td>1.000000</td>\n",
       "      <td>0.138348</td>\n",
       "      <td>0.964744</td>\n",
       "      <td>0.115350</td>\n",
       "    </tr>\n",
       "    <tr>\n",
       "      <th>text_length</th>\n",
       "      <td>0.138348</td>\n",
       "      <td>1.000000</td>\n",
       "      <td>0.103080</td>\n",
       "      <td>0.966115</td>\n",
       "    </tr>\n",
       "    <tr>\n",
       "      <th>title_word_count</th>\n",
       "      <td>0.964744</td>\n",
       "      <td>0.103080</td>\n",
       "      <td>1.000000</td>\n",
       "      <td>0.086844</td>\n",
       "    </tr>\n",
       "    <tr>\n",
       "      <th>text_word_count</th>\n",
       "      <td>0.115350</td>\n",
       "      <td>0.966115</td>\n",
       "      <td>0.086844</td>\n",
       "      <td>1.000000</td>\n",
       "    </tr>\n",
       "  </tbody>\n",
       "</table>\n",
       "</div>"
      ],
      "text/plain": [
       "                  title_length  text_length  title_word_count  text_word_count\n",
       "title_length          1.000000     0.138348          0.964744         0.115350\n",
       "text_length           0.138348     1.000000          0.103080         0.966115\n",
       "title_word_count      0.964744     0.103080          1.000000         0.086844\n",
       "text_word_count       0.115350     0.966115          0.086844         1.000000"
      ]
     },
     "execution_count": 263,
     "metadata": {},
     "output_type": "execute_result"
    }
   ],
   "source": [
    "# Microdosing correlation\n",
    "microdosing_df.corr()"
   ]
  },
  {
   "cell_type": "markdown",
   "id": "d5a60799-1747-4ef7-b7ad-22782cf110a2",
   "metadata": {},
   "source": [
    "# Combine DataFrames"
   ]
  },
  {
   "cell_type": "code",
   "execution_count": 264,
   "id": "ab49bf22-1e79-4985-8c1b-133b0749f431",
   "metadata": {},
   "outputs": [],
   "source": [
    "# Add 'target' column to indicate subreddit category\n",
    "psychonaut_df['target'] = 1\n",
    "microdosing_df['target'] = 0\n",
    "\n",
    "# Concatenate both datasets\n",
    "combined_df = pd.concat([psychonaut_df, microdosing_df], ignore_index=True)\n",
    "\n",
    "# Create dataframe\n",
    "combined_df = combined_df[['target', 'title', 'text', 'title_length', 'text_length',\n",
    "       'title_word_count', 'text_word_count']]"
   ]
  },
  {
   "cell_type": "code",
   "execution_count": 265,
   "id": "10641121-210d-4b2e-bfd2-b136ff1e58ba",
   "metadata": {},
   "outputs": [
    {
     "data": {
      "text/plain": [
       "(4033, 7)"
      ]
     },
     "execution_count": 265,
     "metadata": {},
     "output_type": "execute_result"
    }
   ],
   "source": [
    "combined_df.shape"
   ]
  },
  {
   "cell_type": "markdown",
   "id": "3ea0897a-d6cf-4597-b635-ef2425dadc86",
   "metadata": {},
   "source": [
    "# Combined Data Visualizations"
   ]
  },
  {
   "cell_type": "markdown",
   "id": "009899ff-322d-4b6a-b1ab-1f52171b4527",
   "metadata": {},
   "source": [
    "## Histplot Visualizations"
   ]
  },
  {
   "cell_type": "code",
   "execution_count": 271,
   "id": "b7e17b6a-49fa-4f4a-acf0-588e52ea5364",
   "metadata": {},
   "outputs": [
    {
     "data": {
      "image/png": "[encoded data removed]",
      "text/plain": [
       "<Figure size 1200x600 with 1 Axes>"
      ]
     },
     "metadata": {},
     "output_type": "display_data"
    }
   ],
   "source": [
    "# Histplot - Title Length by Subreddit\n",
    "psychonaut_lengths = combined_df[combined_df['target'] == 1]['title_length']\n",
    "microdosing_lengths = combined_df[combined_df['target'] == 0]['title_length']\n",
    "\n",
    "plt.figure(figsize=(12,6))\n",
    "\n",
    "sns.set(style=\"darkgrid\")\n",
    "\n",
    "sns.histplot(psychonaut_lengths, color='blue', label='Psychonaut')\n",
    "sns.histplot(microdosing_lengths, color='orange', label='Microdosing')\n",
    "\n",
    "plt.xlabel('Title Length')\n",
    "plt.ylabel('Count')\n",
    "plt.legend()\n",
    "plt.savefig('title_length.png')\n",
    "plt.show();"
   ]
  },
  {
   "cell_type": "markdown",
   "id": "e679f869-129c-4a7d-86a8-776a24e621ee",
   "metadata": {},
   "source": [
    "> Image is right skew but Psychonaut has higher count and title length"
   ]
  },
  {
   "cell_type": "code",
   "execution_count": 272,
   "id": "83bf68a1-7952-4341-a1a3-176a0ab4cadb",
   "metadata": {},
   "outputs": [
    {
     "data": {
      "image/png": "[encoded data removed]",
      "text/plain": [
       "<Figure size 1200x600 with 1 Axes>"
      ]
     },
     "metadata": {},
     "output_type": "display_data"
    }
   ],
   "source": [
    "# Histplot - Text Length by Subreddit\n",
    "psychonaut_lengths = combined_df[combined_df['target'] == 1]['text_length']\n",
    "microdosing_lengths = combined_df[combined_df['target'] == 0]['text_length']\n",
    "\n",
    "plt.figure(figsize=(12,6))\n",
    "\n",
    "sns.set(style=\"darkgrid\")\n",
    "\n",
    "sns.histplot(psychonaut_lengths, color='blue', label='Psychonaut')\n",
    "sns.histplot(microdosing_lengths, color='orange', label='Microdosing')\n",
    "\n",
    "plt.xlabel('Text Length')\n",
    "plt.ylabel('Count')\n",
    "plt.xlim(0, 16_000)\n",
    "plt.legend()\n",
    "plt.savefig('text_length.png')\n",
    "plt.show();"
   ]
  },
  {
   "cell_type": "markdown",
   "id": "e7e0e059-090b-4d92-9368-50b01be2fa5f",
   "metadata": {},
   "source": [
    "> Image is right skew but Psychonaut has higher count and text length"
   ]
  },
  {
   "cell_type": "code",
   "execution_count": 273,
   "id": "f1bb5e24-ccbe-496f-a2aa-b4e5c40b79fa",
   "metadata": {},
   "outputs": [
    {
     "data": {
      "image/png": "[encoded data removed]",
      "text/plain": [
       "<Figure size 1200x600 with 1 Axes>"
      ]
     },
     "metadata": {},
     "output_type": "display_data"
    }
   ],
   "source": [
    "## Histplot - Title Word Count by Subreddit\n",
    "psychonaut_word_count = combined_df[combined_df['target'] == 1]['title_word_count']\n",
    "microdosing_word_count = combined_df[combined_df['target'] == 0]['title_word_count']\n",
    "\n",
    "plt.figure(figsize=(12,6))\n",
    "\n",
    "sns.set(style=\"darkgrid\")\n",
    "\n",
    "sns.histplot(psychonaut_word_count, color='blue', label='Psychonaut')\n",
    "sns.histplot(microdosing_word_count, color='orange', label='Microdosing')\n",
    "\n",
    "plt.xlabel('Title Word Count')\n",
    "plt.ylabel('Count')\n",
    "plt.xlim(0, 60)\n",
    "plt.legend()\n",
    "plt.savefig('title_wc.png')\n",
    "plt.show();"
   ]
  },
  {
   "cell_type": "markdown",
   "id": "d3274669-1fb6-49ec-9510-57ec77586a75",
   "metadata": {},
   "source": [
    "> Right skew but Psychonaut has higher title word count and frequency"
   ]
  },
  {
   "cell_type": "code",
   "execution_count": 274,
   "id": "c110aa09-0d7b-4d24-84c2-7dd1547f302a",
   "metadata": {},
   "outputs": [
    {
     "data": {
      "image/png": "[encoded data removed]",
      "text/plain": [
       "<Figure size 1200x600 with 1 Axes>"
      ]
     },
     "metadata": {},
     "output_type": "display_data"
    }
   ],
   "source": [
    "# Histplot - Text Word Count by Subreddit\n",
    "psychonaut_word_count = combined_df[combined_df['target'] == 1]['text_word_count']\n",
    "microdosing_word_count = combined_df[combined_df['target'] == 0]['text_word_count']\n",
    "\n",
    "plt.figure(figsize=(12,6))\n",
    "\n",
    "sns.set(style=\"darkgrid\")\n",
    "\n",
    "sns.histplot(psychonaut_word_count, color='blue', label='Psychonaut')\n",
    "sns.histplot(microdosing_word_count, color='orange', label='Microdosing')\n",
    "\n",
    "plt.xlabel('Text Word Count')\n",
    "plt.ylabel('Count')\n",
    "plt.xlim(0, 2500)\n",
    "plt.legend()\n",
    "plt.savefig('text_wc.png')\n",
    "plt.show();"
   ]
  },
  {
   "cell_type": "markdown",
   "id": "b5bbe33f-2ab8-4416-bb81-236a828d9283",
   "metadata": {},
   "source": [
    "> Right skew but Psychonaut has higher frequency and text word count"
   ]
  },
  {
   "cell_type": "markdown",
   "id": "72289571-4975-43da-bb39-b24494d5558d",
   "metadata": {},
   "source": [
    "## Heatmap Visualization"
   ]
  },
  {
   "cell_type": "code",
   "execution_count": 270,
   "id": "fe5bb066-fc3d-427d-86cb-66e04c65737d",
   "metadata": {},
   "outputs": [
    {
     "name": "stderr",
     "output_type": "stream",
     "text": [
      "C:\\Users\\Crypt\\AppData\\Local\\Temp\\ipykernel_15204\\2498119171.py:3: FutureWarning: The default value of numeric_only in DataFrame.corr is deprecated. In a future version, it will default to False. Select only valid columns or specify the value of numeric_only to silence this warning.\n",
      "  sns.heatmap(combined_df.corr()[['target']].sort_values('target', ascending=False),\n"
     ]
    },
    {
     "data": {
      "image/png": "[encoded data removed]",
      "text/plain": [
       "<Figure size 1200x900 with 2 Axes>"
      ]
     },
     "metadata": {},
     "output_type": "display_data"
    }
   ],
   "source": [
    "# Psychonaut dataframe\n",
    "plt.figure(figsize=(12, 9))\n",
    "sns.heatmap(combined_df.corr()[['target']].sort_values('target', ascending=False),\n",
    "            annot=True, \n",
    "            cmap='coolwarm', \n",
    "            vmin=-1,\n",
    "            vmax=1)\n",
    "\n",
    "plt.title('Correlation Heatmap - Psychonaut Posts')\n",
    "plt.show();"
   ]
  },
  {
   "cell_type": "markdown",
   "id": "0370a5b2-16e0-41a8-abff-06dd9413f7a2",
   "metadata": {},
   "source": [
    "> No correlation between the target with title/text word count or length"
   ]
  },
  {
   "cell_type": "markdown",
   "id": "acda3021-c654-471b-b7a5-ba0142ede41f",
   "metadata": {},
   "source": [
    "# Save Cleaned DataFrames and Combined DataFrame as CSV Files"
   ]
  },
  {
   "cell_type": "code",
   "execution_count": 223,
   "id": "3f8e71cc-b1e7-47c7-8028-3e21c2477822",
   "metadata": {},
   "outputs": [],
   "source": [
    "# Save psychonaut dataframe\n",
    "psychonaut_df.to_csv('../clean_data/psychonaut_clean.csv', index=False)\n",
    "# Save microdosing dataframe\n",
    "microdosing_df.to_csv('../clean_data/microdosing_clean.csv', index=False)\n",
    "# Save combined dataframe\n",
    "combined_df.to_csv('../clean_data/combined_df.csv', index=False)"
   ]
  }
 ],
 "metadata": {
  "kernelspec": {
   "display_name": "Python 3 (ipykernel)",
   "language": "python",
   "name": "python3"
  },
  "language_info": {
   "codemirror_mode": {
    "name": "ipython",
    "version": 3
   },
   "file_extension": ".py",
   "mimetype": "text/x-python",
   "name": "python",
   "nbconvert_exporter": "python",
   "pygments_lexer": "ipython3",
   "version": "3.10.9"
  }
 },
 "nbformat": 4,
 "nbformat_minor": 5
}
