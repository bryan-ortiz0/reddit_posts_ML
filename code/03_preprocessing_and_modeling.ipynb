{
 "cells": [
  {
   "cell_type": "markdown",
   "id": "9905ca5b-bcf6-45ed-9c5d-e2a9458b7b8c",
   "metadata": {},
   "source": [
    "## Table of Contents\n",
    "\n",
    "* [Import Libraries](#import-libraries)\n",
    "* [Load CSV File](#load-csv-file)\n",
    "* [Pre-Processing and Modeling](#pre-processing-and-modeling)\n",
    "    * [Preprocess Text Function](#preprocess-text-function)\n",
    "        * [Initialize tokenizer, stemmer, and stop words](#initialize-tokenizer-stemmer-and-stop-words)\n",
    "    * [Random Forest with TfidfVectorizer and Random Search](#random-forest-with-tfidfvectorizer-and-random-search)\n",
    "    * [Random Forest with TfidfVectorizer with Best Parameters](#random-forest-with-tfidfvectorizer-with-best-parameters)\n",
    "         * [Classification report](#classification-report)\n",
    "         * [Confusion Display Matrix](#confusion-display-matrix)\n",
    "    * [Naive Bayes with TfidfVectorizer and Grid Search](#naive-bayes-with-tfid)\n",
    "    * [Naive Bayes with TfidfVectorizer Best Parameters](#naive-bayes-with-tfidfvectorizer-best-parameters)\n",
    "        * [Classification report](#classification-report)\n",
    "        * [Confusion Display Matrix](#confusion-display-matrix)\n",
    "    * [Naive Bayes with CountfVectorizer and Grid Search](#naive-bayes-with-countvectorizer)\n",
    "    * [Naive Bayes with CountVectorizer Best Parameters](#naive-bayes-with-countvectorizer-best-parameters)\n",
    "        * [Classification report](#classification-report)\n",
    "        * [Confusion Display Matrix](#confusion-display-matrix)"
   ]
  },
  {
   "cell_type": "markdown",
   "id": "1effc93b-eff5-470e-afed-6f3a87db9475",
   "metadata": {},
   "source": [
    "# Import Libraries"
   ]
  },
  {
   "cell_type": "code",
   "execution_count": 233,
   "id": "ff21a900-1801-4c0d-8835-a2e1349b976e",
   "metadata": {},
   "outputs": [],
   "source": [
    "import pandas as pd\n",
    "import numpy as np\n",
    "import matplotlib.pyplot as plt\n",
    "import seaborn as sns\n",
    "\n",
    "import nltk\n",
    "from nltk.tokenize import word_tokenize\n",
    "from nltk.corpus import stopwords\n",
    "from nltk.stem import PorterStemmer\n",
    "\n",
    "from sklearn.ensemble import RandomForestClassifier\n",
    "from sklearn.model_selection import train_test_split, GridSearchCV, RandomizedSearchCV\n",
    "from sklearn.metrics import classification_report, ConfusionMatrixDisplay\n",
    "from sklearn.preprocessing import StandardScaler\n",
    "from sklearn.svm import SVC\n",
    "from sklearn.feature_extraction.text import TfidfVectorizer, CountVectorizer\n",
    "from sklearn.naive_bayes import MultinomialNB\n",
    "\n",
    "from scipy.stats import randint"
   ]
  },
  {
   "cell_type": "markdown",
   "id": "5a10e52c-34a5-4535-8010-2708c4ad832f",
   "metadata": {},
   "source": [
    "# Load CSV File"
   ]
  },
  {
   "cell_type": "code",
   "execution_count": 3,
   "id": "88c54c43-c96e-493b-9c5a-e2b3293b6c52",
   "metadata": {},
   "outputs": [],
   "source": [
    "combined_df = pd.read_csv('../clean_data/combined_df.csv')"
   ]
  },
  {
   "cell_type": "code",
   "execution_count": 4,
   "id": "b746771d-eca0-4df2-a5f9-400e1c994e4a",
   "metadata": {},
   "outputs": [
    {
     "data": {
      "text/html": [
       "<div>\n",
       "<style scoped>\n",
       "    .dataframe tbody tr th:only-of-type {\n",
       "        vertical-align: middle;\n",
       "    }\n",
       "\n",
       "    .dataframe tbody tr th {\n",
       "        vertical-align: top;\n",
       "    }\n",
       "\n",
       "    .dataframe thead th {\n",
       "        text-align: right;\n",
       "    }\n",
       "</style>\n",
       "<table border=\"1\" class=\"dataframe\">\n",
       "  <thead>\n",
       "    <tr style=\"text-align: right;\">\n",
       "      <th></th>\n",
       "      <th>target</th>\n",
       "      <th>title</th>\n",
       "      <th>text</th>\n",
       "      <th>title_length</th>\n",
       "      <th>text_length</th>\n",
       "      <th>title_word_count</th>\n",
       "      <th>text_word_count</th>\n",
       "    </tr>\n",
       "  </thead>\n",
       "  <tbody>\n",
       "    <tr>\n",
       "      <th>0</th>\n",
       "      <td>1</td>\n",
       "      <td>Why do i feel sad when good things happens to ...</td>\n",
       "      <td>I know this have nothing to do with psychedeli...</td>\n",
       "      <td>50</td>\n",
       "      <td>451</td>\n",
       "      <td>12</td>\n",
       "      <td>87</td>\n",
       "    </tr>\n",
       "    <tr>\n",
       "      <th>1</th>\n",
       "      <td>1</td>\n",
       "      <td>How to decide what substance to take</td>\n",
       "      <td>I have acid and mushrooms but I’m undecided on...</td>\n",
       "      <td>36</td>\n",
       "      <td>186</td>\n",
       "      <td>7</td>\n",
       "      <td>39</td>\n",
       "    </tr>\n",
       "    <tr>\n",
       "      <th>2</th>\n",
       "      <td>1</td>\n",
       "      <td>Boofing LSD</td>\n",
       "      <td>Is boofing acid worth is? Will I get the same ...</td>\n",
       "      <td>11</td>\n",
       "      <td>136</td>\n",
       "      <td>2</td>\n",
       "      <td>28</td>\n",
       "    </tr>\n",
       "    <tr>\n",
       "      <th>3</th>\n",
       "      <td>1</td>\n",
       "      <td>People get Ego death mixed up with a breakthro...</td>\n",
       "      <td>There’s a difference between a breakthrough an...</td>\n",
       "      <td>63</td>\n",
       "      <td>1214</td>\n",
       "      <td>9</td>\n",
       "      <td>224</td>\n",
       "    </tr>\n",
       "    <tr>\n",
       "      <th>4</th>\n",
       "      <td>1</td>\n",
       "      <td>A very hot curry gave me visuals</td>\n",
       "      <td>I have not done any psychedelics in over 2 wee...</td>\n",
       "      <td>32</td>\n",
       "      <td>214</td>\n",
       "      <td>7</td>\n",
       "      <td>43</td>\n",
       "    </tr>\n",
       "  </tbody>\n",
       "</table>\n",
       "</div>"
      ],
      "text/plain": [
       "   target                                              title  \\\n",
       "0       1  Why do i feel sad when good things happens to ...   \n",
       "1       1               How to decide what substance to take   \n",
       "2       1                                        Boofing LSD   \n",
       "3       1  People get Ego death mixed up with a breakthro...   \n",
       "4       1                   A very hot curry gave me visuals   \n",
       "\n",
       "                                                text  title_length  \\\n",
       "0  I know this have nothing to do with psychedeli...            50   \n",
       "1  I have acid and mushrooms but I’m undecided on...            36   \n",
       "2  Is boofing acid worth is? Will I get the same ...            11   \n",
       "3  There’s a difference between a breakthrough an...            63   \n",
       "4  I have not done any psychedelics in over 2 wee...            32   \n",
       "\n",
       "   text_length  title_word_count  text_word_count  \n",
       "0          451                12               87  \n",
       "1          186                 7               39  \n",
       "2          136                 2               28  \n",
       "3         1214                 9              224  \n",
       "4          214                 7               43  "
      ]
     },
     "execution_count": 4,
     "metadata": {},
     "output_type": "execute_result"
    }
   ],
   "source": [
    "combined_df.head()"
   ]
  },
  {
   "cell_type": "markdown",
   "id": "2b8776c3-81b5-44bd-b39b-c2988659319e",
   "metadata": {},
   "source": [
    "# Pre-Processing and Modeling"
   ]
  },
  {
   "cell_type": "markdown",
   "id": "754d0cd4-b6af-4eb2-9521-fec492131f24",
   "metadata": {},
   "source": [
    "## Preprocess Text Function"
   ]
  },
  {
   "cell_type": "markdown",
   "id": "06369afb-2a78-4aa4-9399-a8661d702f8f",
   "metadata": {},
   "source": [
    "- Function used for removing stop words and stemming from text"
   ]
  },
  {
   "cell_type": "code",
   "execution_count": 178,
   "id": "63c3981d-1118-4d67-b697-b95aba41415d",
   "metadata": {},
   "outputs": [],
   "source": [
    "def preprocess_text(text):\n",
    "    # Tokenize text\n",
    "    tokens = word_tokenize(text.lower())\n",
    "    \n",
    "    # Remove stop words\n",
    "    tokens = [token for token in tokens if token not in stop_words]\n",
    "    \n",
    "    # Stemming\n",
    "    processed_tokens = [stemmer.stem(token) for token in tokens]\n",
    "    \n",
    "    # Join back into a single string\n",
    "    processed_text = ' '.join(processed_tokens)\n",
    "    \n",
    "    return processed_text"
   ]
  },
  {
   "cell_type": "markdown",
   "id": "0212627e-38d7-4655-a512-72bcd933a311",
   "metadata": {},
   "source": [
    "### Initialize tokenizer, stemmer, and stop words"
   ]
  },
  {
   "cell_type": "code",
   "execution_count": 179,
   "id": "c36c0dff-2a3b-4b26-a259-5ad0c60e0d27",
   "metadata": {},
   "outputs": [],
   "source": [
    "tokenizer = RegexpTokenizer(r'\\w+')\n",
    "stemmer = PorterStemmer()\n",
    "stop_words = set(stopwords.words('english'))"
   ]
  },
  {
   "cell_type": "markdown",
   "id": "3310db55-c524-4398-8f82-ce56d2f51cdb",
   "metadata": {},
   "source": [
    "### Apply text preprocessing to dataframe"
   ]
  },
  {
   "cell_type": "code",
   "execution_count": 180,
   "id": "f322f1db-e9c3-41fd-900f-26768ac349ed",
   "metadata": {},
   "outputs": [],
   "source": [
    "combined_df['processed_text'] = combined_df['text'].apply(preprocess_text)"
   ]
  },
  {
   "cell_type": "markdown",
   "id": "176779ef-0019-4e42-91eb-1b8139fd5fec",
   "metadata": {},
   "source": [
    "## Baseline"
   ]
  },
  {
   "cell_type": "code",
   "execution_count": 253,
   "id": "37d7f66d-6d04-403c-8554-ca7a74a6e2ea",
   "metadata": {},
   "outputs": [
    {
     "data": {
      "text/plain": [
       "0    0.502356\n",
       "1    0.497644\n",
       "Name: target, dtype: float64"
      ]
     },
     "execution_count": 253,
     "metadata": {},
     "output_type": "execute_result"
    }
   ],
   "source": [
    "combined_df['target'].value_counts(normalize=True)"
   ]
  },
  {
   "cell_type": "markdown",
   "id": "275efd54-ebf5-4c5c-bcb2-c279dbcaa6fa",
   "metadata": {},
   "source": [
    "## Random Forest with TfidfVectorizer and Random Search"
   ]
  },
  {
   "cell_type": "code",
   "execution_count": 201,
   "id": "03107044-2e9f-42bf-a1a8-e7ef97289b4c",
   "metadata": {},
   "outputs": [
    {
     "name": "stdout",
     "output_type": "stream",
     "text": [
      "Random Forest Best Parameters: \n",
      "{'max_depth': 20, 'min_samples_split': 9, 'n_estimators': 395}\n",
      "Random Forest Best Score: \n",
      "0.8611183966078727\n"
     ]
    }
   ],
   "source": [
    "# Instantiate TfidfVectorizer\n",
    "vectorizer = TfidfVectorizer()\n",
    "\n",
    "# Vectorize the processed text\n",
    "X = vectorizer.fit_transform(combined_df['processed_text'])\n",
    "y = combined_df['target']\n",
    "\n",
    "# Split the data into training and test sets\n",
    "X_train, X_test, y_train, y_test = train_test_split(X, y, random_state=2023)\n",
    "\n",
    "# Instantiate Random Forest classifier\n",
    "rf = RandomForestClassifier()\n",
    "\n",
    "# Define parameter distributions\n",
    "rf_param_dist = {\n",
    "    'n_estimators': randint(100, 1000),\n",
    "    'max_depth': [None, 5, 10, 15, 20],\n",
    "    'min_samples_split': randint(2, 10)\n",
    "}\n",
    "\n",
    "# Perform randomized search\n",
    "rf_rs = RandomizedSearchCV(rf,\n",
    "                           param_distributions=rf_param_dist,\n",
    "                           scoring='accuracy',\n",
    "                           n_iter=10,\n",
    "                           cv=10)\n",
    "\n",
    "# Fit the randomized search to the training data\n",
    "rf_rs.fit(X_train, y_train)\n",
    "\n",
    "# Print best parameters and best score\n",
    "print(f'Random Forest Best Parameters: \\n{rf_rs.best_params_}')\n",
    "print(f'Random Forest Best Score: \\n{rf_rs.best_score_}')"
   ]
  },
  {
   "cell_type": "markdown",
   "id": "0906b872-7fe2-4973-8d83-953107843162",
   "metadata": {},
   "source": [
    "## Random Forest with TfidfVectorizer with Best Parameters"
   ]
  },
  {
   "cell_type": "code",
   "execution_count": 202,
   "id": "0dc11b7a-2c8e-47ef-96e6-85c6f9929560",
   "metadata": {},
   "outputs": [
    {
     "name": "stdout",
     "output_type": "stream",
     "text": [
      "Random Forest Train Score with TfidVectorizer: 0.9520502645502645\n",
      "Random Forest Test Score with TfidVectorizer: 0.8513379583746283\n"
     ]
    }
   ],
   "source": [
    "# Instantiate TfidfVectorizer\n",
    "vectorizer = TfidfVectorizer()\n",
    "\n",
    "# Vectorize the processed text\n",
    "X = vectorizer.fit_transform(combined_df['processed_text'])\n",
    "y = combined_df['target']\n",
    "\n",
    "# Split the data into training and test sets\n",
    "X_train, X_test, y_train, y_test = train_test_split(X, y, random_state=2023)\n",
    "\n",
    "# Create and train the Random Forest classifier\n",
    "best_rf = RandomForestClassifier(max_depth=20, min_samples_split=9, n_estimators=395)\n",
    "best_rf.fit(X_train, y_train)\n",
    "\n",
    "print(f'Random Forest Train Score with TfidfVectorizer: {best_rf.score(X_train, y_train)}')\n",
    "print(f'Random Forest Test Score with TfidfVectorizer: {best_rf.score(X_test, y_test)}')"
   ]
  },
  {
   "cell_type": "markdown",
   "id": "216c6a16-54e7-406a-b638-2067139710d6",
   "metadata": {},
   "source": [
    "### Classification report"
   ]
  },
  {
   "cell_type": "code",
   "execution_count": 203,
   "id": "1db651c1-00e9-488e-824d-5245e02d62a2",
   "metadata": {},
   "outputs": [
    {
     "name": "stdout",
     "output_type": "stream",
     "text": [
      "Classification Report For Random Trees: \n",
      "              precision    recall  f1-score   support\n",
      "\n",
      "           0     0.8577    0.8544    0.8560       522\n",
      "           1     0.8446    0.8480    0.8463       487\n",
      "\n",
      "    accuracy                         0.8513      1009\n",
      "   macro avg     0.8511    0.8512    0.8512      1009\n",
      "weighted avg     0.8514    0.8513    0.8513      1009\n",
      "\n"
     ]
    }
   ],
   "source": [
    "y_pred = best_rf.predict(X_test)\n",
    "\n",
    "print(f'Classification Report For Random Forest: \\n{classification_report(y_test, y_pred, digits=4)}')"
   ]
  },
  {
   "cell_type": "markdown",
   "id": "4cd990a9-1ab5-49f3-8e7e-c8b82b7c02fb",
   "metadata": {},
   "source": [
    "- Precision: Microdosing (0), the precision score is 86%, and for Psychonaut (1), the precision score is 85%\n",
    "- Recall: Microdosing, the recall score is 85%, and for Psychonaut, the recall score is 85%\n",
    "- F1-Score: Microdosing, the F1-score is 86%, and for Psychonaut, the F1-score is 85%\n",
    "- Accuracy: Overall accuracy of the model is 85%\n",
    "- When intrepreting these scores, the model performs slightly better when predicting microdosing posts"
   ]
  },
  {
   "cell_type": "markdown",
   "id": "f01304f9-93ee-4029-a8a1-567f765a4b16",
   "metadata": {},
   "source": [
    "### Confusion Display Matrix"
   ]
  },
  {
   "cell_type": "code",
   "execution_count": 246,
   "id": "391fa455-c79f-4e78-8e84-53e3d0d7fcd6",
   "metadata": {},
   "outputs": [
    {
     "name": "stdout",
     "output_type": "stream",
     "text": [
      "Confusion Matrix Display For Random Forest: \n",
      "<sklearn.metrics._plot.confusion_matrix.ConfusionMatrixDisplay object at 0x0000017DB61AB1C0>\n"
     ]
    },
    {
     "data": {
      "image/png": "[encoded data removed]",
      "text/plain": [
       "<Figure size 640x480 with 2 Axes>"
      ]
     },
     "metadata": {},
     "output_type": "display_data"
    }
   ],
   "source": [
    "cm_display = ConfusionMatrixDisplay.from_estimator(best_rf,\n",
    "                                      X=X_test,\n",
    "                                      y=y_test,\n",
    "                                      display_labels=['Microdosing', 'Psychonaut'],\n",
    "                                      );\n",
    "plt.savefig('cmd_for_rf_tfidf.png')\n",
    "print(f'Confusion Matrix Display For Random Forest: \\n{cm_display}')"
   ]
  },
  {
   "cell_type": "markdown",
   "id": "f92e239a-1283-4f80-8cc5-6edfc082cac4",
   "metadata": {},
   "source": [
    "- True Positives: 446 samples were correctly predicted as Microdosing\n",
    "- True Negatives: 413 samples were correctly predicted as Psychonaut\n",
    "- False Positives: 74 samples were incorrectly predicted as Microdosing\n",
    "- False Negatives: 76 samples were incorrectly predicted as Psychonaut"
   ]
  },
  {
   "cell_type": "markdown",
   "id": "2701f99e-3a22-4a2f-8544-3e8368c295be",
   "metadata": {},
   "source": [
    "## Random Forest with CountVectorizer and Grid Search"
   ]
  },
  {
   "cell_type": "code",
   "execution_count": 209,
   "id": "5fc8aa76-4176-4446-b9d3-63849a0da9f5",
   "metadata": {},
   "outputs": [
    {
     "name": "stdout",
     "output_type": "stream",
     "text": [
      "Random Forest Best Parameters: \n",
      "{'max_depth': None, 'min_samples_split': 10, 'n_estimators': 300}\n",
      "Random Forest Best Score: \n",
      "0.8604408454090443\n"
     ]
    }
   ],
   "source": [
    "# Instantiate CountVectorizer\n",
    "vectorizer = CountVectorizer()\n",
    "\n",
    "# Vectorize the processed text\n",
    "X = vectorizer.fit_transform(combined_df['processed_text'])\n",
    "y = combined_df['target']\n",
    "\n",
    "# Split the data into training and test sets\n",
    "X_train, X_test, y_train, y_test = train_test_split(X, y, random_state=2023)\n",
    "\n",
    "# Instantiate Random Forest classifier\n",
    "rf = RandomForestClassifier()\n",
    "\n",
    "# Define parameter distributions\n",
    "rf_param_grid = {\n",
    "    'n_estimators': [100, 200, 300],\n",
    "    'max_depth': [None, 5, 10],\n",
    "    'min_samples_split': [2, 5, 10]\n",
    "}\n",
    "\n",
    "rf_gs = GridSearchCV(rf,\n",
    "                     param_grid=rf_param_grid,\n",
    "                     scoring='accuracy',\n",
    "                     cv=10)\n",
    "\n",
    "rf_gs.fit(X_train, y_train)\n",
    "\n",
    "print(f'Random Forest Best Parameters: \\n{rf_gs.best_params_}')\n",
    "print(f'Random Forest Best Score: \\n{rf_gs.best_score_}')"
   ]
  },
  {
   "cell_type": "markdown",
   "id": "3e59f45d-5ba8-4d47-a018-accbbb4b0c3f",
   "metadata": {},
   "source": [
    "## Random Forest with CountVectorizer with Best Parameters"
   ]
  },
  {
   "cell_type": "code",
   "execution_count": 210,
   "id": "84d334ef-9c64-4e57-ac18-1fd659931c90",
   "metadata": {},
   "outputs": [
    {
     "name": "stdout",
     "output_type": "stream",
     "text": [
      "Random Forest Train Score with CountVectorizer: 0.9923941798941799\n",
      "Random Forest Test Score with CountVectorizer: 0.8662041625371655\n"
     ]
    }
   ],
   "source": [
    "# Instantiate CountVectorizer\n",
    "vectorizer = CountVectorizer()\n",
    "\n",
    "# Vectorize the processed text\n",
    "X = vectorizer.fit_transform(combined_df['processed_text'])\n",
    "y = combined_df['target']\n",
    "\n",
    "# Split the data into training and test sets\n",
    "X_train, X_test, y_train, y_test = train_test_split(X, y, random_state=2023)\n",
    "\n",
    "# Create and train the Random Forest classifier\n",
    "best_rf = RandomForestClassifier(max_depth=None, min_samples_split=10, n_estimators=300)\n",
    "best_rf.fit(X_train, y_train)\n",
    "\n",
    "print(f'Random Forest Train Score with CountVectorizer: {best_rf.score(X_train, y_train)}')\n",
    "print(f'Random Forest Test Score with CountVectorizer: {best_rf.score(X_test, y_test)}')"
   ]
  },
  {
   "cell_type": "markdown",
   "id": "d88337c7-1ec8-42d6-a582-d74b0b73935d",
   "metadata": {},
   "source": [
    "### Classification report"
   ]
  },
  {
   "cell_type": "code",
   "execution_count": 211,
   "id": "73af59cd-f2bc-43d8-a6cb-2c7424269aec",
   "metadata": {},
   "outputs": [
    {
     "name": "stdout",
     "output_type": "stream",
     "text": [
      "Classification Report For Random Trees: \n",
      "              precision    recall  f1-score   support\n",
      "\n",
      "           0     0.8832    0.8544    0.8685       522\n",
      "           1     0.8492    0.8789    0.8638       487\n",
      "\n",
      "    accuracy                         0.8662      1009\n",
      "   macro avg     0.8662    0.8666    0.8662      1009\n",
      "weighted avg     0.8668    0.8662    0.8662      1009\n",
      "\n"
     ]
    }
   ],
   "source": [
    "y_pred = best_rf.predict(X_test)\n",
    "\n",
    "print(f'Classification Report For Random Forest: \\n{classification_report(y_test, y_pred, digits=4)}')"
   ]
  },
  {
   "cell_type": "markdown",
   "id": "67015a7c-9a49-4f5b-b693-4d22c3ce8a21",
   "metadata": {},
   "source": [
    "- Precision: Microdosing (0), the precision score is 88%, and for Psychonaut (1), the precision score is 85%\n",
    "- Recall: Microdosing, the recall score is 85%, and for Psychonaut, the recall score is 88%\n",
    "- F1-Score: Microdosing, the F1-score is 87%, and for Psychonaut, the F1-score is 86%\n",
    "- Accuracy: Overall accuracy of the model is 87%\n",
    "- When intrepreting these scores, the model performs slightly better when predicting microdosing posts"
   ]
  },
  {
   "cell_type": "markdown",
   "id": "3cca4f78-07c5-453d-9bcd-19efad6b63b1",
   "metadata": {},
   "source": [
    "### Confusion Display Matrix"
   ]
  },
  {
   "cell_type": "code",
   "execution_count": 247,
   "id": "47899227-1b3e-4fc4-a437-f80e5f27b36e",
   "metadata": {},
   "outputs": [
    {
     "name": "stdout",
     "output_type": "stream",
     "text": [
      "Confusion Matrix Display For Random Forest: \n",
      "<sklearn.metrics._plot.confusion_matrix.ConfusionMatrixDisplay object at 0x0000017DB5E6FCA0>\n"
     ]
    },
    {
     "data": {
      "image/png": "[encoded data removed]",
      "text/plain": [
       "<Figure size 640x480 with 2 Axes>"
      ]
     },
     "metadata": {},
     "output_type": "display_data"
    }
   ],
   "source": [
    "cm_display = ConfusionMatrixDisplay.from_estimator(best_rf,\n",
    "                                      X=X_test,\n",
    "                                      y=y_test,\n",
    "                                      display_labels=['Microdosing', 'Psychonaut'],\n",
    "                                      );\n",
    "plt.savefig('cmd_for_rf_cvec.png')\n",
    "print(f'Confusion Matrix Display For Random Forest: \\n{cm_display}')"
   ]
  },
  {
   "cell_type": "markdown",
   "id": "14f0bb45-cc75-48bc-ab6d-068c980995c9",
   "metadata": {},
   "source": [
    "- True Positives: 446 samples were correctly predicted as Microdosing\n",
    "- True Negatives: 428 samples were correctly predicted as Psychonaut\n",
    "- False Positives: 59 samples were incorrectly predicted as Microdosing\n",
    "- False Negatives: 76 samples were incorrectly predicted as Psychonaut"
   ]
  },
  {
   "cell_type": "markdown",
   "id": "088a8b62-24ff-4da4-8ae9-ba95b19092bb",
   "metadata": {},
   "source": [
    "## Naive Bayes with TfidfVectorizer and Grid Search"
   ]
  },
  {
   "cell_type": "code",
   "execution_count": 235,
   "id": "dce1b08a-a7b0-484c-bb82-90d93d757933",
   "metadata": {},
   "outputs": [
    {
     "name": "stdout",
     "output_type": "stream",
     "text": [
      "Best Parameters: \n",
      "{'alpha': 1.0, 'fit_prior': True}\n",
      "Best Score: \n",
      "0.8587986426577638\n"
     ]
    }
   ],
   "source": [
    "# Instantiate TfidfVectorizer\n",
    "vectorizer = TfidfVectorizer()\n",
    "\n",
    "# Vectorize the processed text\n",
    "X = vectorizer.fit_transform(combined_df['processed_text'])\n",
    "y = combined_df['target']\n",
    "\n",
    "# Split the data into training and test sets\n",
    "X_train, X_test, y_train, y_test = train_test_split(X, y, random_state=2023)\n",
    "\n",
    "# Define the parameter grid for Grid Search\n",
    "param_grid = {\n",
    "    'alpha': [0.1, 0.5, 1.0],\n",
    "    'fit_prior': [True, False]\n",
    "}\n",
    "\n",
    "# Create the Grid Search object\n",
    "grid_search = GridSearchCV(estimator=MultinomialNB(), param_grid=param_grid, cv=5)\n",
    "\n",
    "# Fit the Grid Search to your training data\n",
    "grid_search.fit(X_train, y_train)\n",
    "\n",
    "# Print the best parameters and score\n",
    "print(f'Best Parameters: \\n{grid_search.best_params_}')\n",
    "print(f'Best Score: \\n{grid_search.best_score_}')"
   ]
  },
  {
   "cell_type": "markdown",
   "id": "93853e90-835d-4296-bc40-59b35fa1505f",
   "metadata": {},
   "source": [
    "## Naive Bayes with TfidfVectorizer Best Parameters"
   ]
  },
  {
   "cell_type": "code",
   "execution_count": 248,
   "id": "db4e2fed-db27-490c-b5ec-7d882005a3dd",
   "metadata": {},
   "outputs": [
    {
     "name": "stdout",
     "output_type": "stream",
     "text": [
      "NB Train Score: \n",
      "0.9200247985120893\n",
      "NB Test Score: \n",
      "0.8562577447335812\n"
     ]
    }
   ],
   "source": [
    "# Instantiate TfidfVectorizer\n",
    "vectorizer = TfidfVectorizer()\n",
    "\n",
    "# Vectorize the processed text\n",
    "X = vectorizer.fit_transform(combined_df['processed_text'])\n",
    "y = combined_df['target']\n",
    "\n",
    "# Train Test Split\n",
    "X_train, X_test, y_train, y_test = train_test_split(X, y, test_size=0.2, random_state=2023)\n",
    "\n",
    "# Instantiate MultinomialNB\n",
    "nb = MultinomialNB(alpha=1.0, fit_prior=True)\n",
    "\n",
    "# Fit the classifier on the training data\n",
    "nb.fit(X_train, y_train)\n",
    "\n",
    "# Print the train and test scores\n",
    "print(f'NB Train Score: \\n{nb.score(X_train, y_train)}')\n",
    "print(f'NB Test Score: \\n{nb.score(X_test, y_test)}')"
   ]
  },
  {
   "cell_type": "markdown",
   "id": "cbc8752f-e889-4ad7-a86a-4056799a9956",
   "metadata": {
    "tags": []
   },
   "source": [
    "### Classification Report"
   ]
  },
  {
   "cell_type": "code",
   "execution_count": 249,
   "id": "5003b2d9-e142-46c9-b85d-63b8b05875ba",
   "metadata": {},
   "outputs": [
    {
     "name": "stdout",
     "output_type": "stream",
     "text": [
      "Classification Report For NB with TfidfVectorizer: \n",
      "              precision    recall  f1-score   support\n",
      "\n",
      "           0     0.8738    0.8535    0.8635       430\n",
      "           1     0.8372    0.8594    0.8482       377\n",
      "\n",
      "    accuracy                         0.8563       807\n",
      "   macro avg     0.8555    0.8565    0.8558       807\n",
      "weighted avg     0.8567    0.8563    0.8564       807\n",
      "\n"
     ]
    }
   ],
   "source": [
    "y_pred = nb.predict(X_test)\n",
    "\n",
    "print(f'Classification Report For NB with TfidfVectorizer: \\n{classification_report(y_test, y_pred, digits=4)}')"
   ]
  },
  {
   "cell_type": "markdown",
   "id": "ece1c6e8-b9d6-4410-8b7f-8b47ffa42b11",
   "metadata": {},
   "source": [
    "- Precision: Microdosing (0), the precision score is 87%, and for Psychonaut (1), the precision score is 83%\n",
    "- Recall: Microdosing, the recall score is 85%, and for Psychonaut, the recall score is 86%\n",
    "- F1-Score: Microdosing, the F1-score is 86%, and for Psychonaut, the F1-score is 84%\n",
    "- Accuracy: Overall accuracy of the model is 86%\n",
    "- When intrepreting these scores, the model performs slightly better when predicting microdosing posts"
   ]
  },
  {
   "cell_type": "markdown",
   "id": "c1e934f7-56f2-431f-b4ed-6ddf19271685",
   "metadata": {},
   "source": [
    "### Confusion Display Matrix"
   ]
  },
  {
   "cell_type": "code",
   "execution_count": 250,
   "id": "1c29049e-3640-404a-9b90-9506a25b69ed",
   "metadata": {},
   "outputs": [
    {
     "name": "stdout",
     "output_type": "stream",
     "text": [
      "Confusion Matrix Display For NB: \n",
      "<sklearn.metrics._plot.confusion_matrix.ConfusionMatrixDisplay object at 0x0000017DA449CF10>\n"
     ]
    },
    {
     "data": {
      "image/png": "[encoded data removed]",
      "text/plain": [
       "<Figure size 640x480 with 2 Axes>"
      ]
     },
     "metadata": {},
     "output_type": "display_data"
    }
   ],
   "source": [
    "cm_display = ConfusionMatrixDisplay.from_estimator(nb,\n",
    "                                      X=X_test,\n",
    "                                      y=y_test,\n",
    "                                      display_labels=['Microdosing', 'Psychonaut'],\n",
    "                                      );\n",
    "plt.savefig('cmd_for_NB_tfidf.png')\n",
    "print(f'Confusion Matrix Display For NB: \\n{cm_display}')"
   ]
  },
  {
   "cell_type": "markdown",
   "id": "fa675430-6b40-4423-a93b-2d08c08c239e",
   "metadata": {},
   "source": [
    "- True Positives: 367 samples were correctly predicted as Microdosing\n",
    "- True Negatives: 324 samples were correctly predicted as Psychonaut\n",
    "- False Positives: 53 samples were incorrectly predicted as Microdosing\n",
    "- False Negatives: 63 samples were incorrectly predicted as Psychonaut"
   ]
  },
  {
   "cell_type": "markdown",
   "id": "33d2c94b-8090-4974-ae95-d1f24e07c798",
   "metadata": {},
   "source": [
    "## Naive Bayes with CountVectorizer and Grid Search"
   ]
  },
  {
   "cell_type": "code",
   "execution_count": 239,
   "id": "6af74479-6ff4-4c73-a561-4e38de7ca268",
   "metadata": {},
   "outputs": [
    {
     "name": "stdout",
     "output_type": "stream",
     "text": [
      "Best Parameters: \n",
      "{'alpha': 1.0, 'fit_prior': False}\n",
      "Best Score: \n",
      "0.8591281265393247\n"
     ]
    }
   ],
   "source": [
    "# Instantiate CountVectorizer\n",
    "vectorizer = CountVectorizer()\n",
    "\n",
    "# Vectorize the processed text\n",
    "X = vectorizer.fit_transform(combined_df['processed_text'])\n",
    "y = combined_df['target']\n",
    "\n",
    "# Split the data into training and test sets\n",
    "X_train, X_test, y_train, y_test = train_test_split(X, y, random_state=2023)\n",
    "\n",
    "# Define the parameter grid for Grid Search\n",
    "param_grid = {\n",
    "    'alpha': [0.1, 0.5, 1.0],\n",
    "    'fit_prior': [True, False]\n",
    "}\n",
    "\n",
    "# Create the Grid Search object\n",
    "grid_search = GridSearchCV(estimator=MultinomialNB(), param_grid=param_grid, cv=5)\n",
    "\n",
    "# Fit the Grid Search to your training data\n",
    "grid_search.fit(X_train, y_train)\n",
    "\n",
    "# Print the best parameters and score\n",
    "print(f'Best Parameters: \\n{grid_search.best_params_}')\n",
    "print(f'Best Score: \\n{grid_search.best_score_}')"
   ]
  },
  {
   "cell_type": "markdown",
   "id": "1cac577f-7cd5-4ba4-932b-5284f0a93bb7",
   "metadata": {},
   "source": [
    "## Naive Bayes with CountVectorizer Best Parameters"
   ]
  },
  {
   "cell_type": "code",
   "execution_count": 240,
   "id": "d8cd3ede-312c-4114-aa50-4d7e0b1e8664",
   "metadata": {},
   "outputs": [
    {
     "name": "stdout",
     "output_type": "stream",
     "text": [
      "NB Train Score: \n",
      "0.9060756354618723\n",
      "NB Test Score: \n",
      "0.8562577447335812\n"
     ]
    }
   ],
   "source": [
    "# Instantiate CountVectorizer\n",
    "vectorizer = CountVectorizer()\n",
    "\n",
    "# Vectorize the processed text\n",
    "X = vectorizer.fit_transform(combined_df['processed_text'])\n",
    "y = combined_df['target']\n",
    "\n",
    "# Train Test Split\n",
    "X_train, X_test, y_train, y_test = train_test_split(X, y, test_size=0.2, random_state=2023)\n",
    "\n",
    "# Instantiate MultinomialNB\n",
    "nb = MultinomialNB(alpha=1.0, fit_prior=False)\n",
    "\n",
    "# Fit the classifier on the training data\n",
    "nb.fit(X_train, y_train)\n",
    "\n",
    "# Print the train and test scores\n",
    "print(f'NB Train Score: \\n{nb.score(X_train, y_train)}')\n",
    "print(f'NB Test Score: \\n{nb.score(X_test, y_test)}')"
   ]
  },
  {
   "cell_type": "markdown",
   "id": "dca2e4fe-dd59-4b16-884b-4253e19fc3c1",
   "metadata": {
    "tags": []
   },
   "source": [
    "### Classification Report"
   ]
  },
  {
   "cell_type": "code",
   "execution_count": 254,
   "id": "b8118479-a4ad-46f3-8566-5b2175c70d73",
   "metadata": {},
   "outputs": [
    {
     "name": "stdout",
     "output_type": "stream",
     "text": [
      "Classification Report For NB with CountVectorizer: \n",
      "              precision    recall  f1-score   support\n",
      "\n",
      "           0     0.8738    0.8535    0.8635       430\n",
      "           1     0.8372    0.8594    0.8482       377\n",
      "\n",
      "    accuracy                         0.8563       807\n",
      "   macro avg     0.8555    0.8565    0.8558       807\n",
      "weighted avg     0.8567    0.8563    0.8564       807\n",
      "\n"
     ]
    }
   ],
   "source": [
    "y_pred = nb.predict(X_test)\n",
    "\n",
    "print(f'Classification Report For NB with CountVectorizer: \\n{classification_report(y_test, y_pred, digits=4)}')"
   ]
  },
  {
   "cell_type": "markdown",
   "id": "5b7e2343-377f-4bcb-9d69-378902e87bbb",
   "metadata": {},
   "source": [
    "- Precision: Microdosing (0), the precision score is 84%, and for Psychonaut (1), the precision score is 87%\n",
    "- Recall: Microdosing, the recall score is 90%, and for Psychonaut, the recall score is 81%\n",
    "- F1-Score: Microdosing, the F1-score is 87%, and for Psychonaut, the F1-score is 84%\n",
    "- Accuracy: Overall accuracy of the model is 85%\n",
    "- When intrepreting these scores, the model performs slightly better when predicting microdosing posts"
   ]
  },
  {
   "cell_type": "markdown",
   "id": "d15786d4-155e-4891-8019-38bb32cb57aa",
   "metadata": {},
   "source": [
    "### Confusion Display Matrix"
   ]
  },
  {
   "cell_type": "code",
   "execution_count": 251,
   "id": "7d99f59e-9e9f-44c2-83bd-e9a18beca57c",
   "metadata": {},
   "outputs": [
    {
     "name": "stdout",
     "output_type": "stream",
     "text": [
      "Confusion Matrix Display For NB: \n",
      "<sklearn.metrics._plot.confusion_matrix.ConfusionMatrixDisplay object at 0x0000017DB607FDC0>\n"
     ]
    },
    {
     "data": {
      "image/png": "[encoded data removed]",
      "text/plain": [
       "<Figure size 640x480 with 2 Axes>"
      ]
     },
     "metadata": {},
     "output_type": "display_data"
    }
   ],
   "source": [
    "cm_display = ConfusionMatrixDisplay.from_estimator(nb,\n",
    "                                      X=X_test,\n",
    "                                      y=y_test,\n",
    "                                      display_labels=['Microdosing', 'Psychonaut'],\n",
    "                                      );\n",
    "plt.savefig('cmd_for_NB_cvec.png')\n",
    "print(f'Confusion Matrix Display For NB: \\n{cm_display}')"
   ]
  },
  {
   "cell_type": "markdown",
   "id": "670ad97a-d6a8-4a78-a378-b6d7bd607909",
   "metadata": {},
   "source": [
    "- True Positives: 386 samples were correctly predicted as Microdosing\n",
    "- True Negatives: 305 samples were correctly predicted as Psychonaut\n",
    "- False Positives: 72 samples were incorrectly predicted as Microdosing\n",
    "- False Negatives: 44 samples were incorrectly predicted as Psychonaut"
   ]
  }
 ],
 "metadata": {
  "kernelspec": {
   "display_name": "Python 3 (ipykernel)",
   "language": "python",
   "name": "python3"
  },
  "language_info": {
   "codemirror_mode": {
    "name": "ipython",
    "version": 3
   },
   "file_extension": ".py",
   "mimetype": "text/x-python",
   "name": "python",
   "nbconvert_exporter": "python",
   "pygments_lexer": "ipython3",
   "version": "3.10.9"
  }
 },
 "nbformat": 4,
 "nbformat_minor": 5
}
